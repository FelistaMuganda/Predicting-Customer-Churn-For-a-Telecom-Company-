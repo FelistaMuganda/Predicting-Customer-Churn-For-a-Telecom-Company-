{
 "cells": [
  {
   "cell_type": "code",
   "execution_count": 1,
   "metadata": {},
   "outputs": [],
   "source": [
    "import numpy as np\n",
    "import pandas as pd\n",
    "import os\n",
    "from sklearn.linear_model import LogisticRegression"
   ]
  },
  {
   "cell_type": "code",
   "execution_count": 24,
   "metadata": {},
   "outputs": [],
   "source": [
    "os.getcwd()\n",
    "os.chdir(\"C:/Users/HP/OneDrive - Michigan State University/Masters - Data Science/MSU/Fall/Data Mining/Project\")"
   ]
  },
  {
   "cell_type": "code",
   "execution_count": 61,
   "metadata": {},
   "outputs": [],
   "source": [
    "train=pd.read_csv(\"Train telecom.csv\",index_col=0)\n",
    "test=pd.read_csv(\"Test telecom.csv\",index_col=0)"
   ]
  },
  {
   "cell_type": "code",
   "execution_count": 62,
   "metadata": {},
   "outputs": [
    {
     "data": {
      "text/plain": [
       "(3333, 19)"
      ]
     },
     "execution_count": 62,
     "metadata": {},
     "output_type": "execute_result"
    }
   ],
   "source": [
    "data = train.append([test])\n",
    "data.shape"
   ]
  },
  {
   "cell_type": "code",
   "execution_count": 35,
   "metadata": {},
   "outputs": [
    {
     "name": "stdout",
     "output_type": "stream",
     "text": [
      "3333\n"
     ]
    }
   ],
   "source": [
    "print(np.array(train.shape)[0]+np.array(test.shape)[0])\n"
   ]
  },
  {
   "cell_type": "code",
   "execution_count": 63,
   "metadata": {},
   "outputs": [
    {
     "data": {
      "text/plain": [
       "['Account length',\n",
       " 'International plan',\n",
       " 'Voice mail plan',\n",
       " 'Number vmail messages',\n",
       " 'Total day minutes',\n",
       " 'Total day calls',\n",
       " 'Total day charge',\n",
       " 'Total eve minutes',\n",
       " 'Total eve calls',\n",
       " 'Total eve charge',\n",
       " 'Total night minutes',\n",
       " 'Total night calls',\n",
       " 'Total night charge',\n",
       " 'Total intl minutes',\n",
       " 'Total intl calls',\n",
       " 'Total intl charge',\n",
       " 'Customer service calls',\n",
       " 'Churn']"
      ]
     },
     "execution_count": 63,
     "metadata": {},
     "output_type": "execute_result"
    }
   ],
   "source": [
    "#Drop account length, area code since not likely to influence churn\n",
    "data=data.drop([\"Area code\"],axis=1)\n",
    "list(data.columns)"
   ]
  },
  {
   "cell_type": "code",
   "execution_count": 64,
   "metadata": {},
   "outputs": [],
   "source": [
    "#Replacing Yes/No values with 1 and 0\n",
    "data['International plan'] = data['International plan'].replace({\"Yes\":1,\"No\":0}).astype(int)\n",
    "data['Voice mail plan'] = data['Voice mail plan'].replace({\"Yes\":1,\"No\":0}).astype(int)\n",
    "\n"
   ]
  },
  {
   "cell_type": "code",
   "execution_count": 65,
   "metadata": {},
   "outputs": [],
   "source": [
    "#Replacing True/False values with 1 and 0\n",
    "data['Churn'] = data['Churn'].replace({True:1,False:0}).astype(int)"
   ]
  },
  {
   "cell_type": "code",
   "execution_count": 56,
   "metadata": {},
   "outputs": [
    {
     "data": {
      "text/html": [
       "<div>\n",
       "<style scoped>\n",
       "    .dataframe tbody tr th:only-of-type {\n",
       "        vertical-align: middle;\n",
       "    }\n",
       "\n",
       "    .dataframe tbody tr th {\n",
       "        vertical-align: top;\n",
       "    }\n",
       "\n",
       "    .dataframe thead th {\n",
       "        text-align: right;\n",
       "    }\n",
       "</style>\n",
       "<table border=\"1\" class=\"dataframe\">\n",
       "  <thead>\n",
       "    <tr style=\"text-align: right;\">\n",
       "      <th></th>\n",
       "      <th>Account length</th>\n",
       "      <th>International plan</th>\n",
       "      <th>Voice mail plan</th>\n",
       "      <th>Number vmail messages</th>\n",
       "      <th>Total day minutes</th>\n",
       "      <th>Total day calls</th>\n",
       "      <th>Total day charge</th>\n",
       "      <th>Total eve minutes</th>\n",
       "      <th>Total eve calls</th>\n",
       "      <th>Total eve charge</th>\n",
       "      <th>Total night minutes</th>\n",
       "      <th>Total night calls</th>\n",
       "      <th>Total night charge</th>\n",
       "      <th>Total intl minutes</th>\n",
       "      <th>Total intl calls</th>\n",
       "      <th>Total intl charge</th>\n",
       "      <th>Customer service calls</th>\n",
       "      <th>Churn</th>\n",
       "    </tr>\n",
       "    <tr>\n",
       "      <th>State</th>\n",
       "      <th></th>\n",
       "      <th></th>\n",
       "      <th></th>\n",
       "      <th></th>\n",
       "      <th></th>\n",
       "      <th></th>\n",
       "      <th></th>\n",
       "      <th></th>\n",
       "      <th></th>\n",
       "      <th></th>\n",
       "      <th></th>\n",
       "      <th></th>\n",
       "      <th></th>\n",
       "      <th></th>\n",
       "      <th></th>\n",
       "      <th></th>\n",
       "      <th></th>\n",
       "      <th></th>\n",
       "    </tr>\n",
       "  </thead>\n",
       "  <tbody>\n",
       "    <tr>\n",
       "      <th>KS</th>\n",
       "      <td>128</td>\n",
       "      <td>0</td>\n",
       "      <td>1</td>\n",
       "      <td>25</td>\n",
       "      <td>265.1</td>\n",
       "      <td>110</td>\n",
       "      <td>45.07</td>\n",
       "      <td>197.4</td>\n",
       "      <td>99</td>\n",
       "      <td>16.78</td>\n",
       "      <td>244.7</td>\n",
       "      <td>91</td>\n",
       "      <td>11.01</td>\n",
       "      <td>10.0</td>\n",
       "      <td>3</td>\n",
       "      <td>2.70</td>\n",
       "      <td>1</td>\n",
       "      <td>0</td>\n",
       "    </tr>\n",
       "    <tr>\n",
       "      <th>OH</th>\n",
       "      <td>107</td>\n",
       "      <td>0</td>\n",
       "      <td>1</td>\n",
       "      <td>26</td>\n",
       "      <td>161.6</td>\n",
       "      <td>123</td>\n",
       "      <td>27.47</td>\n",
       "      <td>195.5</td>\n",
       "      <td>103</td>\n",
       "      <td>16.62</td>\n",
       "      <td>254.4</td>\n",
       "      <td>103</td>\n",
       "      <td>11.45</td>\n",
       "      <td>13.7</td>\n",
       "      <td>3</td>\n",
       "      <td>3.70</td>\n",
       "      <td>1</td>\n",
       "      <td>0</td>\n",
       "    </tr>\n",
       "    <tr>\n",
       "      <th>NJ</th>\n",
       "      <td>137</td>\n",
       "      <td>0</td>\n",
       "      <td>0</td>\n",
       "      <td>0</td>\n",
       "      <td>243.4</td>\n",
       "      <td>114</td>\n",
       "      <td>41.38</td>\n",
       "      <td>121.2</td>\n",
       "      <td>110</td>\n",
       "      <td>10.30</td>\n",
       "      <td>162.6</td>\n",
       "      <td>104</td>\n",
       "      <td>7.32</td>\n",
       "      <td>12.2</td>\n",
       "      <td>5</td>\n",
       "      <td>3.29</td>\n",
       "      <td>0</td>\n",
       "      <td>0</td>\n",
       "    </tr>\n",
       "    <tr>\n",
       "      <th>OH</th>\n",
       "      <td>84</td>\n",
       "      <td>1</td>\n",
       "      <td>0</td>\n",
       "      <td>0</td>\n",
       "      <td>299.4</td>\n",
       "      <td>71</td>\n",
       "      <td>50.90</td>\n",
       "      <td>61.9</td>\n",
       "      <td>88</td>\n",
       "      <td>5.26</td>\n",
       "      <td>196.9</td>\n",
       "      <td>89</td>\n",
       "      <td>8.86</td>\n",
       "      <td>6.6</td>\n",
       "      <td>7</td>\n",
       "      <td>1.78</td>\n",
       "      <td>2</td>\n",
       "      <td>0</td>\n",
       "    </tr>\n",
       "  </tbody>\n",
       "</table>\n",
       "</div>"
      ],
      "text/plain": [
       "       Account length  International plan  Voice mail plan  \\\n",
       "State                                                        \n",
       "KS                128                   0                1   \n",
       "OH                107                   0                1   \n",
       "NJ                137                   0                0   \n",
       "OH                 84                   1                0   \n",
       "\n",
       "       Number vmail messages  Total day minutes  Total day calls  \\\n",
       "State                                                              \n",
       "KS                        25              265.1              110   \n",
       "OH                        26              161.6              123   \n",
       "NJ                         0              243.4              114   \n",
       "OH                         0              299.4               71   \n",
       "\n",
       "       Total day charge  Total eve minutes  Total eve calls  Total eve charge  \\\n",
       "State                                                                           \n",
       "KS                45.07              197.4               99             16.78   \n",
       "OH                27.47              195.5              103             16.62   \n",
       "NJ                41.38              121.2              110             10.30   \n",
       "OH                50.90               61.9               88              5.26   \n",
       "\n",
       "       Total night minutes  Total night calls  Total night charge  \\\n",
       "State                                                               \n",
       "KS                   244.7                 91               11.01   \n",
       "OH                   254.4                103               11.45   \n",
       "NJ                   162.6                104                7.32   \n",
       "OH                   196.9                 89                8.86   \n",
       "\n",
       "       Total intl minutes  Total intl calls  Total intl charge  \\\n",
       "State                                                            \n",
       "KS                   10.0                 3               2.70   \n",
       "OH                   13.7                 3               3.70   \n",
       "NJ                   12.2                 5               3.29   \n",
       "OH                    6.6                 7               1.78   \n",
       "\n",
       "       Customer service calls  Churn  \n",
       "State                                 \n",
       "KS                          1      0  \n",
       "OH                          1      0  \n",
       "NJ                          0      0  \n",
       "OH                          2      0  "
      ]
     },
     "execution_count": 56,
     "metadata": {},
     "output_type": "execute_result"
    }
   ],
   "source": [
    "data.head(4)"
   ]
  },
  {
   "cell_type": "code",
   "execution_count": null,
   "metadata": {},
   "outputs": [],
   "source": [
    "from sklearn import preprocessing\n",
    "le = preprocessing.LabelEncoder()\n",
    "data['Region_by_cha'] =le.fit_transform(data['Region_by_cha'])\n",
    "data['Region'] =le.fit_transform(data['Region'])\n",
    "data['Division'] =le.fit_transform(data['Division'])\n"
   ]
  },
  {
   "cell_type": "markdown",
   "metadata": {},
   "source": [
    "## Standardising X"
   ]
  },
  {
   "cell_type": "code",
   "execution_count": 67,
   "metadata": {},
   "outputs": [],
   "source": [
    "X = data.drop([\"International plan\",\"Voice mail plan\",\"Churn\"], axis=1)"
   ]
  },
  {
   "cell_type": "code",
   "execution_count": 68,
   "metadata": {},
   "outputs": [],
   "source": [
    "from sklearn.preprocessing import StandardScaler\n",
    "scaler=StandardScaler()\n",
    "# We remove the target class(a categorical variable) before standardising the data\n",
    "scaler.fit(X)\n",
    "data_scaled=scaler.transform(X)"
   ]
  },
  {
   "cell_type": "code",
   "execution_count": null,
   "metadata": {},
   "outputs": [],
   "source": []
  },
  {
   "cell_type": "code",
   "execution_count": 40,
   "metadata": {},
   "outputs": [
    {
     "data": {
      "text/html": [
       "<div>\n",
       "<style scoped>\n",
       "    .dataframe tbody tr th:only-of-type {\n",
       "        vertical-align: middle;\n",
       "    }\n",
       "\n",
       "    .dataframe tbody tr th {\n",
       "        vertical-align: top;\n",
       "    }\n",
       "\n",
       "    .dataframe thead th {\n",
       "        text-align: right;\n",
       "    }\n",
       "</style>\n",
       "<table border=\"1\" class=\"dataframe\">\n",
       "  <thead>\n",
       "    <tr style=\"text-align: right;\">\n",
       "      <th></th>\n",
       "      <th>Account length</th>\n",
       "      <th>International plan</th>\n",
       "      <th>Voice mail plan</th>\n",
       "      <th>Number vmail messages</th>\n",
       "      <th>Total day minutes</th>\n",
       "      <th>Total day calls</th>\n",
       "      <th>Total day charge</th>\n",
       "      <th>Total eve minutes</th>\n",
       "      <th>Total eve calls</th>\n",
       "      <th>Total eve charge</th>\n",
       "      <th>Total night minutes</th>\n",
       "      <th>Total night calls</th>\n",
       "      <th>Total night charge</th>\n",
       "      <th>Total intl minutes</th>\n",
       "      <th>Total intl calls</th>\n",
       "      <th>Total intl charge</th>\n",
       "      <th>Customer service calls</th>\n",
       "    </tr>\n",
       "  </thead>\n",
       "  <tbody>\n",
       "    <tr>\n",
       "      <th>0</th>\n",
       "      <td>0.676489</td>\n",
       "      <td>-0.327580</td>\n",
       "      <td>1.617086</td>\n",
       "      <td>1.234883</td>\n",
       "      <td>1.566767</td>\n",
       "      <td>0.476643</td>\n",
       "      <td>1.567036</td>\n",
       "      <td>-0.070610</td>\n",
       "      <td>-0.055940</td>\n",
       "      <td>-0.070427</td>\n",
       "      <td>0.866743</td>\n",
       "      <td>-0.465494</td>\n",
       "      <td>0.866029</td>\n",
       "      <td>-0.085008</td>\n",
       "      <td>-0.601195</td>\n",
       "      <td>-0.085690</td>\n",
       "      <td>-0.427932</td>\n",
       "    </tr>\n",
       "    <tr>\n",
       "      <th>1</th>\n",
       "      <td>0.149065</td>\n",
       "      <td>-0.327580</td>\n",
       "      <td>1.617086</td>\n",
       "      <td>1.307948</td>\n",
       "      <td>-0.333738</td>\n",
       "      <td>1.124503</td>\n",
       "      <td>-0.334013</td>\n",
       "      <td>-0.108080</td>\n",
       "      <td>0.144867</td>\n",
       "      <td>-0.107549</td>\n",
       "      <td>1.058571</td>\n",
       "      <td>0.147825</td>\n",
       "      <td>1.059390</td>\n",
       "      <td>1.240482</td>\n",
       "      <td>-0.601195</td>\n",
       "      <td>1.241169</td>\n",
       "      <td>-0.427932</td>\n",
       "    </tr>\n",
       "    <tr>\n",
       "      <th>2</th>\n",
       "      <td>0.902529</td>\n",
       "      <td>-0.327580</td>\n",
       "      <td>-0.618396</td>\n",
       "      <td>-0.591760</td>\n",
       "      <td>1.168304</td>\n",
       "      <td>0.675985</td>\n",
       "      <td>1.168464</td>\n",
       "      <td>-1.573383</td>\n",
       "      <td>0.496279</td>\n",
       "      <td>-1.573900</td>\n",
       "      <td>-0.756869</td>\n",
       "      <td>0.198935</td>\n",
       "      <td>-0.755571</td>\n",
       "      <td>0.703121</td>\n",
       "      <td>0.211534</td>\n",
       "      <td>0.697156</td>\n",
       "      <td>-1.188218</td>\n",
       "    </tr>\n",
       "    <tr>\n",
       "      <th>3</th>\n",
       "      <td>-0.428590</td>\n",
       "      <td>3.052685</td>\n",
       "      <td>-0.618396</td>\n",
       "      <td>-0.591760</td>\n",
       "      <td>2.196596</td>\n",
       "      <td>-1.466936</td>\n",
       "      <td>2.196759</td>\n",
       "      <td>-2.742865</td>\n",
       "      <td>-0.608159</td>\n",
       "      <td>-2.743268</td>\n",
       "      <td>-0.078551</td>\n",
       "      <td>-0.567714</td>\n",
       "      <td>-0.078806</td>\n",
       "      <td>-1.303026</td>\n",
       "      <td>1.024263</td>\n",
       "      <td>-1.306401</td>\n",
       "      <td>0.332354</td>\n",
       "    </tr>\n",
       "    <tr>\n",
       "      <th>4</th>\n",
       "      <td>-0.654629</td>\n",
       "      <td>3.052685</td>\n",
       "      <td>-0.618396</td>\n",
       "      <td>-0.591760</td>\n",
       "      <td>-0.240090</td>\n",
       "      <td>0.626149</td>\n",
       "      <td>-0.240041</td>\n",
       "      <td>-1.038932</td>\n",
       "      <td>1.098699</td>\n",
       "      <td>-1.037939</td>\n",
       "      <td>-0.276311</td>\n",
       "      <td>1.067803</td>\n",
       "      <td>-0.276562</td>\n",
       "      <td>-0.049184</td>\n",
       "      <td>-0.601195</td>\n",
       "      <td>-0.045885</td>\n",
       "      <td>1.092641</td>\n",
       "    </tr>\n",
       "  </tbody>\n",
       "</table>\n",
       "</div>"
      ],
      "text/plain": [
       "   Account length  International plan  Voice mail plan  Number vmail messages  \\\n",
       "0        0.676489           -0.327580         1.617086               1.234883   \n",
       "1        0.149065           -0.327580         1.617086               1.307948   \n",
       "2        0.902529           -0.327580        -0.618396              -0.591760   \n",
       "3       -0.428590            3.052685        -0.618396              -0.591760   \n",
       "4       -0.654629            3.052685        -0.618396              -0.591760   \n",
       "\n",
       "   Total day minutes  Total day calls  Total day charge  Total eve minutes  \\\n",
       "0           1.566767         0.476643          1.567036          -0.070610   \n",
       "1          -0.333738         1.124503         -0.334013          -0.108080   \n",
       "2           1.168304         0.675985          1.168464          -1.573383   \n",
       "3           2.196596        -1.466936          2.196759          -2.742865   \n",
       "4          -0.240090         0.626149         -0.240041          -1.038932   \n",
       "\n",
       "   Total eve calls  Total eve charge  Total night minutes  Total night calls  \\\n",
       "0        -0.055940         -0.070427             0.866743          -0.465494   \n",
       "1         0.144867         -0.107549             1.058571           0.147825   \n",
       "2         0.496279         -1.573900            -0.756869           0.198935   \n",
       "3        -0.608159         -2.743268            -0.078551          -0.567714   \n",
       "4         1.098699         -1.037939            -0.276311           1.067803   \n",
       "\n",
       "   Total night charge  Total intl minutes  Total intl calls  \\\n",
       "0            0.866029           -0.085008         -0.601195   \n",
       "1            1.059390            1.240482         -0.601195   \n",
       "2           -0.755571            0.703121          0.211534   \n",
       "3           -0.078806           -1.303026          1.024263   \n",
       "4           -0.276562           -0.049184         -0.601195   \n",
       "\n",
       "   Total intl charge  Customer service calls  \n",
       "0          -0.085690               -0.427932  \n",
       "1           1.241169               -0.427932  \n",
       "2           0.697156               -1.188218  \n",
       "3          -1.306401                0.332354  \n",
       "4          -0.045885                1.092641  "
      ]
     },
     "execution_count": 40,
     "metadata": {},
     "output_type": "execute_result"
    }
   ],
   "source": [
    "#Transfrom into a data frame again just to view standardised data\n",
    "data_scaled=pd.DataFrame(data_scaled,columns=data.columns[:-1])\n",
    "data_scaled.head(5)\n"
   ]
  },
  {
   "cell_type": "code",
   "execution_count": 9,
   "metadata": {},
   "outputs": [],
   "source": [
    "Y=pd.DataFrame(churn.loc[:,'Churn'].reset_index(drop=True))\n",
    "Y_test=pd.DataFrame(test.loc[:,'Churn'].reset_index(drop=True))"
   ]
  },
  {
   "cell_type": "code",
   "execution_count": 10,
   "metadata": {},
   "outputs": [],
   "source": [
    "#Add back y before data split\n",
    "churn=pd.concat([churn_scaled, Y], axis=1)\n",
    "test=pd.concat([test_scaled, Y_test], axis=1)\n",
    "#df_c = pd.concat([df_a.reset_index(drop=True), df_b], axis=1)"
   ]
  },
  {
   "cell_type": "markdown",
   "metadata": {},
   "source": [
    "## Splitting Data Set"
   ]
  },
  {
   "cell_type": "code",
   "execution_count": 11,
   "metadata": {},
   "outputs": [],
   "source": [
    "X_train = churn.drop(['Churn'],axis=1)\n",
    "y_train= churn['Churn']\n",
    "\n",
    "X_test = test.drop(['Churn'],axis=1)\n",
    "y_test= test['Churn']"
   ]
  },
  {
   "cell_type": "code",
   "execution_count": 12,
   "metadata": {},
   "outputs": [
    {
     "ename": "NameError",
     "evalue": "name 'train_test_split' is not defined",
     "output_type": "error",
     "traceback": [
      "\u001b[1;31m---------------------------------------------------------------------------\u001b[0m",
      "\u001b[1;31mNameError\u001b[0m                                 Traceback (most recent call last)",
      "\u001b[1;32m<ipython-input-12-c911e748d7f6>\u001b[0m in \u001b[0;36m<module>\u001b[1;34m\u001b[0m\n\u001b[1;32m----> 1\u001b[1;33m \u001b[0mX_train\u001b[0m\u001b[1;33m,\u001b[0m\u001b[0mX_test\u001b[0m\u001b[1;33m,\u001b[0m\u001b[0my_train\u001b[0m\u001b[1;33m,\u001b[0m\u001b[0my_test\u001b[0m\u001b[1;33m=\u001b[0m\u001b[0mtrain_test_split\u001b[0m\u001b[1;33m(\u001b[0m\u001b[0mX\u001b[0m\u001b[1;33m,\u001b[0m\u001b[0my\u001b[0m\u001b[1;33m,\u001b[0m\u001b[0mtest_size\u001b[0m\u001b[1;33m=\u001b[0m\u001b[1;36m0.2\u001b[0m\u001b[1;33m,\u001b[0m\u001b[0mrandom_state\u001b[0m\u001b[1;33m=\u001b[0m\u001b[1;36m40\u001b[0m\u001b[1;33m)\u001b[0m\u001b[1;33m\u001b[0m\u001b[1;33m\u001b[0m\u001b[0m\n\u001b[0m",
      "\u001b[1;31mNameError\u001b[0m: name 'train_test_split' is not defined"
     ]
    }
   ],
   "source": [
    "X_train,X_test,y_train,y_test=train_test_split(X,y,test_size=0.2,random_state=40)"
   ]
  },
  {
   "cell_type": "markdown",
   "metadata": {},
   "source": [
    "## SMOTE Sampling to balance train data set before running Logistic Regression"
   ]
  },
  {
   "cell_type": "markdown",
   "metadata": {},
   "source": [
    "SMOTE Sampling"
   ]
  },
  {
   "cell_type": "code",
   "execution_count": 13,
   "metadata": {},
   "outputs": [
    {
     "name": "stdout",
     "output_type": "stream",
     "text": [
      "length of oversampled data is  4556\n",
      "Number of no churn in oversampled data 2278\n",
      "Number of churn 2278\n",
      "Proportion of no churn data in oversampled data is  0.5\n",
      "Proportion of churn data in oversampled data is  0.5\n"
     ]
    }
   ],
   "source": [
    "from imblearn.over_sampling import SMOTE\n",
    "\n",
    "\n",
    "os = SMOTE(random_state=0)\n",
    "\n",
    "columns = X_train.columns\n",
    "os_data_X,os_data_y=os.fit_sample(X_train, y_train)\n",
    "os_data_X = pd.DataFrame(data=os_data_X,columns=columns )\n",
    "os_data_y= pd.DataFrame(data=os_data_y,columns=['Churn'])\n",
    "# we can Check the numbers of our data\n",
    "print(\"length of oversampled data is \",len(os_data_X))\n",
    "print(\"Number of no churn in oversampled data\",len(os_data_y[os_data_y['Churn']==0]))\n",
    "print(\"Number of churn\",len(os_data_y[os_data_y['Churn']==1]))\n",
    "print(\"Proportion of no churn data in oversampled data is \",len(os_data_y[os_data_y['Churn']==0])/len(os_data_X))\n",
    "print(\"Proportion of churn data in oversampled data is \",len(os_data_y[os_data_y['Churn']==1])/len(os_data_X))"
   ]
  },
  {
   "cell_type": "markdown",
   "metadata": {},
   "source": [
    "### Logistic Regression"
   ]
  },
  {
   "cell_type": "code",
   "execution_count": 14,
   "metadata": {},
   "outputs": [],
   "source": [
    "from sklearn.linear_model import LogisticRegression\n",
    "from sklearn.metrics import confusion_matrix\n",
    "from sklearn.metrics import precision_score\n",
    "from sklearn.metrics import recall_score\n",
    "from sklearn.metrics import plot_confusion_matrix"
   ]
  },
  {
   "cell_type": "code",
   "execution_count": 671,
   "metadata": {},
   "outputs": [
    {
     "data": {
      "text/plain": [
       "0"
      ]
     },
     "execution_count": 671,
     "metadata": {},
     "output_type": "execute_result"
    }
   ],
   "source": [
    "y_train.isnull().sum()"
   ]
  },
  {
   "cell_type": "markdown",
   "metadata": {},
   "source": [
    "import statsmodels.api as sm\n",
    "logit_model=sm.Logit(X_train,y_train)\n",
    "result=logit_model.fit()\n",
    "print(result.summary2())\n"
   ]
  },
  {
   "cell_type": "code",
   "execution_count": 15,
   "metadata": {},
   "outputs": [],
   "source": [
    "def evaluate(y_test, y_pred):\n",
    "    cm  = confusion_matrix(y_test, y_pred)\n",
    "    num_correct = sum(cm[i][i] for i in range(1))\n",
    "    acc = np.round(num_correct*100/cm.sum())\n",
    "    \n",
    "    #Precision = TruePositives /(TruePositives + FalsePositives)\n",
    "    #Out of all positive predictions, what % is actually positive \n",
    "    prec= cm[1][1]/(cm[1][1] +cm[0][1])  #cm[row][column] if dataframe = cm_df.iloc[row][column]\n",
    "    \n",
    "    #recall= true positives/(true positives + false negatives)\n",
    "    #Out of all actual positives what % is correctly predicted as +ve\n",
    "    recall = cm[1][1]/(cm[1][1]+cm[1][0]) \n",
    "    \n",
    "    global df\n",
    "    \n",
    "    evaluation = {\n",
    "    'Prec': [prec],\n",
    "    'Accuracy': [acc],\n",
    "    'Recall': [recall]\n",
    "    }\n",
    "    \n",
    "    df=pd.DataFrame(evaluation)\n",
    "    \n",
    "    return df"
   ]
  },
  {
   "cell_type": "markdown",
   "metadata": {},
   "source": [
    "## Logistic Regression\n",
    "\n",
    "##### Without class balancing"
   ]
  },
  {
   "cell_type": "code",
   "execution_count": 16,
   "metadata": {},
   "outputs": [
    {
     "name": "stdout",
     "output_type": "stream",
     "text": [
      "[[550  22]\n",
      " [ 76  19]]\n",
      "       Prec  Accuracy  Recall\n",
      "0  0.463415      82.0     0.2\n"
     ]
    }
   ],
   "source": [
    "lr = LogisticRegression(penalty='none', random_state=1)\n",
    "lr = lr.fit(X_train, y_train)\n",
    "y_pred = lr.predict(X_test)\n",
    "cm  = confusion_matrix(y_test, y_pred)\n",
    "Evaluation = evaluate(y_test, y_pred)\n",
    "\n",
    "print(cm)\n",
    "print(Evaluation)\n",
    "\n",
    "\n",
    "precision = precision_score(y_test, y_pred, average='binary') "
   ]
  },
  {
   "cell_type": "markdown",
   "metadata": {},
   "source": [
    "##### With Class Balancing"
   ]
  },
  {
   "cell_type": "code",
   "execution_count": 17,
   "metadata": {},
   "outputs": [
    {
     "name": "stdout",
     "output_type": "stream",
     "text": [
      "[[445 127]\n",
      " [ 24  71]]\n",
      "       Prec  Accuracy    Recall\n",
      "0  0.358586      67.0  0.747368\n"
     ]
    }
   ],
   "source": [
    "lr = LogisticRegression(penalty='none',class_weight=\"balanced\", random_state=1)\n",
    "lr = lr.fit(X_train, y_train)\n",
    "y_pred = lr.predict(X_test)\n",
    "cm  = confusion_matrix(y_test, y_pred)\n",
    "Evaluation = evaluate(y_test, y_pred)\n",
    "\n",
    "print(cm)\n",
    "print(Evaluation)\n",
    "\n",
    "\n",
    "precision = precision_score(y_test, y_pred, average='binary') \n",
    "\n",
    "\n",
    "\n"
   ]
  },
  {
   "cell_type": "markdown",
   "metadata": {},
   "source": [
    "##### Confusion Matrix"
   ]
  },
  {
   "cell_type": "code",
   "execution_count": 612,
   "metadata": {},
   "outputs": [
    {
     "name": "stdout",
     "output_type": "stream",
     "text": [
      "Confusion matrix, without normalization\n",
      "[[445 127]\n",
      " [ 24  71]]\n",
      "Normalized confusion matrix\n",
      "[[0.77797203 0.22202797]\n",
      " [0.25263158 0.74736842]]\n"
     ]
    },
    {
     "data": {
      "image/png": "[encoded data removed]",
      "text/plain": [
       "<Figure size 432x288 with 2 Axes>"
      ]
     },
     "metadata": {
      "needs_background": "light"
     },
     "output_type": "display_data"
    },
    {
     "data": {
      "image/png": "[encoded data removed]",
      "text/plain": [
       "<Figure size 432x288 with 2 Axes>"
      ]
     },
     "metadata": {
      "needs_background": "light"
     },
     "output_type": "display_data"
    }
   ],
   "source": [
    "class_names= churn[\"Churn\"].unique()\n",
    "titles_options = [(\"Confusion matrix, without normalization\", None),\n",
    "                  (\"Normalized confusion matrix\", 'true')]\n",
    "for title, normalize in titles_options:\n",
    "    disp = plot_confusion_matrix(lr, X_test, y_test,\n",
    "                                 display_labels=class_names,\n",
    "                                 cmap=plt.cm.Blues,\n",
    "                                 normalize=normalize)\n",
    "    disp.ax_.set_title(title)\n",
    "\n",
    "    print(title)\n",
    "    print(disp.confusion_matrix)\n",
    "\n",
    "plt.show()"
   ]
  },
  {
   "cell_type": "markdown",
   "metadata": {},
   "source": [
    "## MLP Classifier"
   ]
  },
  {
   "cell_type": "code",
   "execution_count": 354,
   "metadata": {},
   "outputs": [
    {
     "name": "stdout",
     "output_type": "stream",
     "text": [
      "[[558  14]\n",
      " [ 32  63]]\n",
      "       Prec  Accuracy    Recall\n",
      "0  0.818182      84.0  0.663158\n"
     ]
    }
   ],
   "source": [
    "mlp = MLPClassifier(alpha=0.01, batch_size=200, hidden_layer_sizes=(700,),\\\n",
    "                    learning_rate='adaptive', max_iter=500, random_state=1)\n",
    "mlp.fit(X_train, y_train)\n",
    "y_pred = mlp.predict(X_test)\n",
    "Evaluation = evaluate(y_test, y_pred)\n",
    "cm  = confusion_matrix(y_test, y_pred)\n",
    "print(cm)\n",
    "print(Evaluation)"
   ]
  },
  {
   "cell_type": "markdown",
   "metadata": {},
   "source": [
    "## Logistic Regression"
   ]
  },
  {
   "cell_type": "code",
   "execution_count": 504,
   "metadata": {},
   "outputs": [],
   "source": [
    "### Stratified Sampling maintains proportion of classes in original dataset onto the test and train data sets\n",
    "#X_train,X_test,y_train,y_test=train_test_split(X,y,stratify=y, test_size=0.2,random_state=40)"
   ]
  },
  {
   "cell_type": "code",
   "execution_count": 613,
   "metadata": {},
   "outputs": [
    {
     "name": "stdout",
     "output_type": "stream",
     "text": [
      "[[445 127]\n",
      " [ 24  71]]\n",
      "       Prec  Accuracy    Recall\n",
      "0  0.358586      67.0  0.747368\n"
     ]
    }
   ],
   "source": [
    "lr = LogisticRegression(penalty='none',class_weight =\"balanced\", random_state=1)\n",
    "lr = lr.fit(X_train, y_train)\n",
    "y_pred = lr.predict(X_test)\n",
    "cm  = confusion_matrix(y_test, y_pred)\n",
    "Evaluation = evaluate(y_test, y_pred)\n",
    "\n",
    "print(cm)\n",
    "print(Evaluation)\n"
   ]
  },
  {
   "cell_type": "code",
   "execution_count": 614,
   "metadata": {},
   "outputs": [
    {
     "name": "stdout",
     "output_type": "stream",
     "text": [
      "[[480  92]\n",
      " [ 29  66]]\n",
      "       Prec  Accuracy    Recall\n",
      "0  0.417722      72.0  0.694737\n"
     ]
    }
   ],
   "source": [
    "lr = LogisticRegression(penalty='none',class_weight = {1:4}, random_state=1)\n",
    "lr = lr.fit(X_train, y_train)\n",
    "y_pred = lr.predict(X_test)\n",
    "cm  = confusion_matrix(y_test, y_pred)\n",
    "Evaluation = evaluate(y_test, y_pred)\n",
    "\n",
    "print(cm)\n",
    "print(Evaluation)"
   ]
  },
  {
   "cell_type": "markdown",
   "metadata": {},
   "source": [
    "## Ridge"
   ]
  },
  {
   "cell_type": "code",
   "execution_count": 18,
   "metadata": {},
   "outputs": [
    {
     "name": "stdout",
     "output_type": "stream",
     "text": [
      "[[550  22]\n",
      " [ 78  17]]\n",
      "       Prec  Accuracy    Recall\n",
      "0  0.435897      82.0  0.178947\n"
     ]
    }
   ],
   "source": [
    "### Ridge Regression\n",
    "lr = LogisticRegression(penalty='l2', solver='lbfgs', class_weight =\" balanced\", random_state=1,max_iter=1000)\n",
    "lr.fit(X_train, y_train)\n",
    "y_pred = lr.predict(X_test)\n",
    "cm  = confusion_matrix(y_test, y_pred)\n",
    "Evaluation = evaluate(y_test, y_pred)\n",
    "print(cm)\n",
    "print(Evaluation)"
   ]
  },
  {
   "cell_type": "markdown",
   "metadata": {},
   "source": [
    "## RidgeClassifier"
   ]
  },
  {
   "cell_type": "code",
   "execution_count": 623,
   "metadata": {},
   "outputs": [
    {
     "name": "stdout",
     "output_type": "stream",
     "text": [
      "[[449 123]\n",
      " [ 24  71]]\n",
      "       Prec  Accuracy    Recall\n",
      "0  0.365979      67.0  0.747368\n"
     ]
    }
   ],
   "source": [
    "from sklearn.linear_model import RidgeClassifier\n",
    "lr = RidgeClassifier(alpha=0.1, solver='saga', class_weight = \"balanced\", random_state=1,max_iter=1000)\n",
    "lr.fit(X_train, y_train)\n",
    "y_pred = lr.predict(X_test)\n",
    "cm  = confusion_matrix(y_test, y_pred)\n",
    "Evaluation = evaluate(y_test, y_pred)\n",
    "print(cm)\n",
    "print(Evaluation)"
   ]
  },
  {
   "cell_type": "markdown",
   "metadata": {},
   "source": [
    "## Lasso"
   ]
  },
  {
   "cell_type": "code",
   "execution_count": 395,
   "metadata": {},
   "outputs": [
    {
     "name": "stdout",
     "output_type": "stream",
     "text": [
      "[[447 125]\n",
      " [ 23  72]]\n",
      "       Prec  Accuracy    Recall\n",
      "0  0.365482      67.0  0.757895\n"
     ]
    }
   ],
   "source": [
    "### Lasso Regression\n",
    "\n",
    "lr = LogisticRegression(penalty='l1', class_weight= \"balanced\", solver='saga', random_state=1, max_iter = 1000)\n",
    "lr.fit(X_train, y_train)\n",
    "y_pred = lr.predict(X_test)\n",
    "cm  = confusion_matrix(y_test, y_pred)\n",
    "Evaluation = evaluate(y_test, y_pred)\n",
    "print(cm)\n",
    "print(Evaluation)"
   ]
  },
  {
   "cell_type": "code",
   "execution_count": 164,
   "metadata": {},
   "outputs": [
    {
     "data": {
      "text/plain": [
       "0    572\n",
       "1     95\n",
       "Name: Churn, dtype: int64"
      ]
     },
     "execution_count": 164,
     "metadata": {},
     "output_type": "execute_result"
    }
   ],
   "source": [
    "churn[\"Churn\"].value_counts()\n"
   ]
  },
  {
   "cell_type": "code",
   "execution_count": 167,
   "metadata": {},
   "outputs": [],
   "source": [
    "percentage_churn = 95/(95+572) #0.1424\n",
    "percentage_no_churn = 572/(95+572) #0.8575\n"
   ]
  },
  {
   "cell_type": "markdown",
   "metadata": {},
   "source": [
    "## SVM"
   ]
  },
  {
   "cell_type": "code",
   "execution_count": 396,
   "metadata": {},
   "outputs": [
    {
     "name": "stdout",
     "output_type": "stream",
     "text": [
      "[[447 125]\n",
      " [ 23  72]]\n",
      "       Prec  Accuracy    Recall\n",
      "0  0.409938      72.0  0.694737\n"
     ]
    }
   ],
   "source": [
    "from sklearn.svm import SVC \n",
    "svm = SVC(kernel = 'linear', C = 1, class_weight={1: 4}, random_state=1)\n",
    "svm.fit(X_train, y_train) \n",
    "y_pred = svm.predict(X_test)\n",
    "Evaluation = evaluate(y_test, y_pred)\n",
    "#cm  = confusion_matrix(y_test, y_pred)\n",
    "print(cm)\n",
    "print(Evaluation)"
   ]
  },
  {
   "cell_type": "markdown",
   "metadata": {},
   "source": [
    "## Random Forest"
   ]
  },
  {
   "cell_type": "code",
   "execution_count": 577,
   "metadata": {},
   "outputs": [
    {
     "name": "stdout",
     "output_type": "stream",
     "text": [
      "[[567   5]\n",
      " [ 22  73]]\n",
      "       Prec  Accuracy    Recall\n",
      "0  0.935897      85.0  0.768421\n"
     ]
    }
   ],
   "source": [
    "from sklearn.ensemble import RandomForestClassifier\n",
    "\n",
    "rf = RandomForestClassifier(n_estimators=100,class_weight={1:5}, min_samples_split=7, random_state=1)\n",
    "rf.fit(X_train, y_train)\n",
    "y_pred = rf.predict(X_test)\n",
    "Evaluation = evaluate(y_test, y_pred)\n",
    "cm  = confusion_matrix(y_test, y_pred)\n",
    "print(cm)\n",
    "print(Evaluation)"
   ]
  },
  {
   "cell_type": "markdown",
   "metadata": {},
   "source": [
    "## MLP Classifier"
   ]
  },
  {
   "cell_type": "code",
   "execution_count": null,
   "metadata": {},
   "outputs": [],
   "source": [
    "from sklearn.neural_network import MLPClassifier"
   ]
  },
  {
   "cell_type": "code",
   "execution_count": 398,
   "metadata": {},
   "outputs": [
    {
     "name": "stdout",
     "output_type": "stream",
     "text": [
      "[[562  10]\n",
      " [ 35  60]]\n",
      "       Prec  Accuracy    Recall\n",
      "0  0.857143      84.0  0.631579\n"
     ]
    }
   ],
   "source": [
    "mlp = MLPClassifier(alpha=0.01, batch_size=200, hidden_layer_sizes=(700,),\\\n",
    "                    learning_rate='adaptive', max_iter=500, random_state=1)\n",
    "mlp.fit(X_train, y_train)\n",
    "y_pred = mlp.predict(X_test)\n",
    "Evaluation = evaluate(y_test, y_pred)\n",
    "cm  = confusion_matrix(y_test, y_pred)\n",
    "print(cm)\n",
    "print(Evaluation)"
   ]
  },
  {
   "cell_type": "markdown",
   "metadata": {},
   "source": [
    "## KNN"
   ]
  },
  {
   "cell_type": "code",
   "execution_count": 583,
   "metadata": {},
   "outputs": [
    {
     "name": "stdout",
     "output_type": "stream",
     "text": [
      "[[557  15]\n",
      " [ 59  36]]\n",
      "       Prec  Accuracy    Recall\n",
      "0  0.705882      84.0  0.378947\n"
     ]
    }
   ],
   "source": [
    "from sklearn.neighbors import KNeighborsClassifier\n",
    "\n",
    "knn = KNeighborsClassifier(weights = \"distance\")\n",
    "knn.fit(X_train, y_train)\n",
    "y_pred = knn.predict(X_test)\n",
    "Evaluation = evaluate(y_test, y_pred)\n",
    "precision_score(y_test,y_pred, average='binary')\n",
    "cm  = confusion_matrix(y_test, y_pred)\n",
    "print(cm)\n",
    "print(Evaluation)\n"
   ]
  },
  {
   "cell_type": "code",
   "execution_count": 402,
   "metadata": {},
   "outputs": [
    {
     "name": "stdout",
     "output_type": "stream",
     "text": [
      "[[538  34]\n",
      " [ 55  40]]\n",
      "       Prec  Accuracy    Recall\n",
      "0  0.822222      85.0  0.389474\n"
     ]
    }
   ],
   "source": [
    "from sklearn.neighbors import KNeighborsClassifier\n",
    "\n",
    "knn = KNeighborsClassifier(n_neighbors=1)\n",
    "knn.fit(X_train, y_train)\n",
    "y_pred = knn.predict(X_test)\n",
    "acc = evaluate(y_test, y_pred)\n",
    "cm  = confusion_matrix(y_test, y_pred)\n",
    "print(cm)\n",
    "print(Evaluation)\n"
   ]
  },
  {
   "cell_type": "markdown",
   "metadata": {},
   "source": [
    "## Gradient Boosting Classifier\n",
    "\n",
    "Ensemble method that combines a number of weaker regression trees to build one powerful classifier"
   ]
  },
  {
   "cell_type": "code",
   "execution_count": 403,
   "metadata": {},
   "outputs": [
    {
     "name": "stdout",
     "output_type": "stream",
     "text": [
      "[[567   5]\n",
      " [ 32  63]]\n",
      "       Prec  Accuracy    Recall\n",
      "0  0.926471      85.0  0.663158\n"
     ]
    }
   ],
   "source": [
    "#from sklearn.ensemble import GradientBoostingClassifier\n",
    "\n",
    "gb = GradientBoostingClassifier()\n",
    "gb.fit(X_train, y_train)\n",
    "y_pred = gb.predict(X_test)\n",
    "Evaluation = evaluate(y_test, y_pred)\n",
    "cm  = confusion_matrix(y_test, y_pred)\n",
    "print(cm)\n",
    "print(Evaluation)"
   ]
  },
  {
   "cell_type": "code",
   "execution_count": 404,
   "metadata": {},
   "outputs": [
    {
     "data": {
      "text/plain": [
       "120"
      ]
     },
     "execution_count": 404,
     "metadata": {},
     "output_type": "execute_result"
    }
   ],
   "source": [
    "learning_rate = [0.01, 0.05, 0.1, 0.5, 0.8]\n",
    "n_estimators = [5, 10, 20, 50, 100, 150]\n",
    "min_samples_split = [2,5,7,10,20]\n",
    "\n",
    "param_list = []\n",
    "\n",
    "for learn_rate in learning_rate:\n",
    "    for ne in n_estimators:\n",
    "        for mss in min_samples_split:\n",
    "            param_list.append([learn_rate, ne, mss])\n",
    "                \n",
    "len(param_list)"
   ]
  },
  {
   "cell_type": "code",
   "execution_count": 405,
   "metadata": {},
   "outputs": [
    {
     "name": "stdout",
     "output_type": "stream",
     "text": [
      "30\n",
      "60\n",
      "90\n",
      "120\n"
     ]
    },
    {
     "data": {
      "text/html": [
       "<div>\n",
       "<style scoped>\n",
       "    .dataframe tbody tr th:only-of-type {\n",
       "        vertical-align: middle;\n",
       "    }\n",
       "\n",
       "    .dataframe tbody tr th {\n",
       "        vertical-align: top;\n",
       "    }\n",
       "\n",
       "    .dataframe thead th {\n",
       "        text-align: right;\n",
       "    }\n",
       "</style>\n",
       "<table border=\"1\" class=\"dataframe\">\n",
       "  <thead>\n",
       "    <tr style=\"text-align: right;\">\n",
       "      <th></th>\n",
       "      <th>learning_rate</th>\n",
       "      <th>n_estimators</th>\n",
       "      <th>min_sample_split</th>\n",
       "      <th>recall</th>\n",
       "    </tr>\n",
       "  </thead>\n",
       "  <tbody>\n",
       "    <tr>\n",
       "      <th>0</th>\n",
       "      <td>0.01</td>\n",
       "      <td>5</td>\n",
       "      <td>2</td>\n",
       "      <td>0.0</td>\n",
       "    </tr>\n",
       "    <tr>\n",
       "      <th>1</th>\n",
       "      <td>0.01</td>\n",
       "      <td>5</td>\n",
       "      <td>5</td>\n",
       "      <td>0.0</td>\n",
       "    </tr>\n",
       "    <tr>\n",
       "      <th>2</th>\n",
       "      <td>0.01</td>\n",
       "      <td>5</td>\n",
       "      <td>7</td>\n",
       "      <td>0.0</td>\n",
       "    </tr>\n",
       "    <tr>\n",
       "      <th>3</th>\n",
       "      <td>0.01</td>\n",
       "      <td>5</td>\n",
       "      <td>10</td>\n",
       "      <td>0.0</td>\n",
       "    </tr>\n",
       "    <tr>\n",
       "      <th>4</th>\n",
       "      <td>0.01</td>\n",
       "      <td>10</td>\n",
       "      <td>2</td>\n",
       "      <td>0.0</td>\n",
       "    </tr>\n",
       "  </tbody>\n",
       "</table>\n",
       "</div>"
      ],
      "text/plain": [
       "   learning_rate  n_estimators  min_sample_split  recall\n",
       "0           0.01             5                 2     0.0\n",
       "1           0.01             5                 5     0.0\n",
       "2           0.01             5                 7     0.0\n",
       "3           0.01             5                10     0.0\n",
       "4           0.01            10                 2     0.0"
      ]
     },
     "execution_count": 405,
     "metadata": {},
     "output_type": "execute_result"
    }
   ],
   "source": [
    "perf_df = pd.DataFrame(param_list, columns=['learning_rate', 'n_estimators', 'min_sample_split'])\n",
    "\n",
    "recall = []\n",
    "count = 0\n",
    "for param in param_list:\n",
    "    count += 1\n",
    "    if count%30 == 0:\n",
    "        print(count)\n",
    "    gb = GradientBoostingClassifier(learning_rate=param[0], n_estimators=param[1],\\\n",
    "                                    min_samples_split=param[2], random_state=1)\n",
    "    gb.fit(X_train, y_train)\n",
    "    y_pred = gb.predict(X_test)\n",
    "    calc = recall_score(y_test, y_pred)\n",
    "    recall.append(calc)\n",
    "    \n",
    "perf_df['recall'] = recall\n",
    "perf_df.head()"
   ]
  },
  {
   "cell_type": "code",
   "execution_count": 406,
   "metadata": {},
   "outputs": [
    {
     "data": {
      "text/html": [
       "<div>\n",
       "<style scoped>\n",
       "    .dataframe tbody tr th:only-of-type {\n",
       "        vertical-align: middle;\n",
       "    }\n",
       "\n",
       "    .dataframe tbody tr th {\n",
       "        vertical-align: top;\n",
       "    }\n",
       "\n",
       "    .dataframe thead th {\n",
       "        text-align: right;\n",
       "    }\n",
       "</style>\n",
       "<table border=\"1\" class=\"dataframe\">\n",
       "  <thead>\n",
       "    <tr style=\"text-align: right;\">\n",
       "      <th></th>\n",
       "      <th>learning_rate</th>\n",
       "      <th>n_estimators</th>\n",
       "      <th>min_sample_split</th>\n",
       "      <th>recall</th>\n",
       "    </tr>\n",
       "  </thead>\n",
       "  <tbody>\n",
       "    <tr>\n",
       "      <th>76</th>\n",
       "      <td>0.5</td>\n",
       "      <td>10</td>\n",
       "      <td>2</td>\n",
       "      <td>0.747368</td>\n",
       "    </tr>\n",
       "    <tr>\n",
       "      <th>77</th>\n",
       "      <td>0.5</td>\n",
       "      <td>10</td>\n",
       "      <td>5</td>\n",
       "      <td>0.747368</td>\n",
       "    </tr>\n",
       "    <tr>\n",
       "      <th>78</th>\n",
       "      <td>0.5</td>\n",
       "      <td>10</td>\n",
       "      <td>7</td>\n",
       "      <td>0.747368</td>\n",
       "    </tr>\n",
       "    <tr>\n",
       "      <th>79</th>\n",
       "      <td>0.5</td>\n",
       "      <td>10</td>\n",
       "      <td>10</td>\n",
       "      <td>0.747368</td>\n",
       "    </tr>\n",
       "    <tr>\n",
       "      <th>81</th>\n",
       "      <td>0.5</td>\n",
       "      <td>20</td>\n",
       "      <td>5</td>\n",
       "      <td>0.747368</td>\n",
       "    </tr>\n",
       "    <tr>\n",
       "      <th>86</th>\n",
       "      <td>0.5</td>\n",
       "      <td>50</td>\n",
       "      <td>7</td>\n",
       "      <td>0.747368</td>\n",
       "    </tr>\n",
       "    <tr>\n",
       "      <th>90</th>\n",
       "      <td>0.5</td>\n",
       "      <td>100</td>\n",
       "      <td>7</td>\n",
       "      <td>0.747368</td>\n",
       "    </tr>\n",
       "    <tr>\n",
       "      <th>93</th>\n",
       "      <td>0.5</td>\n",
       "      <td>150</td>\n",
       "      <td>5</td>\n",
       "      <td>0.747368</td>\n",
       "    </tr>\n",
       "    <tr>\n",
       "      <th>94</th>\n",
       "      <td>0.5</td>\n",
       "      <td>150</td>\n",
       "      <td>7</td>\n",
       "      <td>0.747368</td>\n",
       "    </tr>\n",
       "  </tbody>\n",
       "</table>\n",
       "</div>"
      ],
      "text/plain": [
       "    learning_rate  n_estimators  min_sample_split    recall\n",
       "76            0.5            10                 2  0.747368\n",
       "77            0.5            10                 5  0.747368\n",
       "78            0.5            10                 7  0.747368\n",
       "79            0.5            10                10  0.747368\n",
       "81            0.5            20                 5  0.747368\n",
       "86            0.5            50                 7  0.747368\n",
       "90            0.5           100                 7  0.747368\n",
       "93            0.5           150                 5  0.747368\n",
       "94            0.5           150                 7  0.747368"
      ]
     },
     "execution_count": 406,
     "metadata": {},
     "output_type": "execute_result"
    }
   ],
   "source": [
    "perf_df[perf_df.recall == perf_df.recall.max()]"
   ]
  },
  {
   "cell_type": "code",
   "execution_count": 410,
   "metadata": {},
   "outputs": [
    {
     "name": "stdout",
     "output_type": "stream",
     "text": [
      "[[562  10]\n",
      " [ 24  71]]\n",
      "       Prec  Accuracy    Recall\n",
      "0  0.876543      84.0  0.747368\n"
     ]
    }
   ],
   "source": [
    "gb = GradientBoostingClassifier(learning_rate=0.5, n_estimators=10, min_samples_split=2, random_state=1)\n",
    "gb.fit(X_train, y_train)\n",
    "y_pred = gb.predict(X_test)\n",
    "Evaluation = evaluate(y_test, y_pred)\n",
    "cm  = confusion_matrix(y_test, y_pred)\n",
    "print(cm)\n",
    "print(Evaluation)"
   ]
  },
  {
   "cell_type": "code",
   "execution_count": 625,
   "metadata": {},
   "outputs": [],
   "source": [
    "df_combined_evaluation = pd.DataFrame({'L.Regression': [0.358586,     67.0,  0.747368],\n",
    "                    'Ridge': [0.485714, 83.0, 0.178947],                  \n",
    "                   'RidgeClassifier': [0.365979,67.0,0.747368],\n",
    "                   'Lasso': [0.365482, 67.0 ,0.757895],\n",
    "                   'SVM': [0.409938,72.0,0.694737],\n",
    "                    'KNN': [0.822222,85.0,0.389474],\n",
    "                   'GB_O': [0.926471,85.0,0.663158],\n",
    "                    \"Random Forest\": [0.972973,85.0,0.757895],\n",
    "                   'GB_2_samples': [0.876543,84.0,0.747368]},                   \n",
    "                                      \n",
    "                                      \n",
    "                  index=['Precision', 'Accuracy', 'Recall'])"
   ]
  },
  {
   "cell_type": "code",
   "execution_count": 626,
   "metadata": {},
   "outputs": [
    {
     "data": {
      "text/html": [
       "<div>\n",
       "<style scoped>\n",
       "    .dataframe tbody tr th:only-of-type {\n",
       "        vertical-align: middle;\n",
       "    }\n",
       "\n",
       "    .dataframe tbody tr th {\n",
       "        vertical-align: top;\n",
       "    }\n",
       "\n",
       "    .dataframe thead th {\n",
       "        text-align: right;\n",
       "    }\n",
       "</style>\n",
       "<table border=\"1\" class=\"dataframe\">\n",
       "  <thead>\n",
       "    <tr style=\"text-align: right;\">\n",
       "      <th></th>\n",
       "      <th>L.Regression</th>\n",
       "      <th>Ridge</th>\n",
       "      <th>RidgeClassifier</th>\n",
       "      <th>Lasso</th>\n",
       "      <th>SVM</th>\n",
       "      <th>KNN</th>\n",
       "      <th>GB_O</th>\n",
       "      <th>Random Forest</th>\n",
       "      <th>GB_2_samples</th>\n",
       "    </tr>\n",
       "  </thead>\n",
       "  <tbody>\n",
       "    <tr>\n",
       "      <th>Precision</th>\n",
       "      <td>0.358586</td>\n",
       "      <td>0.485714</td>\n",
       "      <td>0.365979</td>\n",
       "      <td>0.365482</td>\n",
       "      <td>0.409938</td>\n",
       "      <td>0.822222</td>\n",
       "      <td>0.926471</td>\n",
       "      <td>0.972973</td>\n",
       "      <td>0.876543</td>\n",
       "    </tr>\n",
       "    <tr>\n",
       "      <th>Accuracy</th>\n",
       "      <td>67.000000</td>\n",
       "      <td>83.000000</td>\n",
       "      <td>67.000000</td>\n",
       "      <td>67.000000</td>\n",
       "      <td>72.000000</td>\n",
       "      <td>85.000000</td>\n",
       "      <td>85.000000</td>\n",
       "      <td>85.000000</td>\n",
       "      <td>84.000000</td>\n",
       "    </tr>\n",
       "    <tr>\n",
       "      <th>Recall</th>\n",
       "      <td>0.747368</td>\n",
       "      <td>0.178947</td>\n",
       "      <td>0.747368</td>\n",
       "      <td>0.757895</td>\n",
       "      <td>0.694737</td>\n",
       "      <td>0.389474</td>\n",
       "      <td>0.663158</td>\n",
       "      <td>0.757895</td>\n",
       "      <td>0.747368</td>\n",
       "    </tr>\n",
       "  </tbody>\n",
       "</table>\n",
       "</div>"
      ],
      "text/plain": [
       "           L.Regression      Ridge  RidgeClassifier      Lasso        SVM  \\\n",
       "Precision      0.358586   0.485714         0.365979   0.365482   0.409938   \n",
       "Accuracy      67.000000  83.000000        67.000000  67.000000  72.000000   \n",
       "Recall         0.747368   0.178947         0.747368   0.757895   0.694737   \n",
       "\n",
       "                 KNN       GB_O  Random Forest  GB_2_samples  \n",
       "Precision   0.822222   0.926471       0.972973      0.876543  \n",
       "Accuracy   85.000000  85.000000      85.000000     84.000000  \n",
       "Recall      0.389474   0.663158       0.757895      0.747368  "
      ]
     },
     "execution_count": 626,
     "metadata": {},
     "output_type": "execute_result"
    }
   ],
   "source": [
    "df_combined_evaluation"
   ]
  },
  {
   "cell_type": "code",
   "execution_count": 637,
   "metadata": {},
   "outputs": [],
   "source": [
    "df_eval=df_combined_evaluation.T\n",
    "df_eval= df_eval.reset_index(drop=False)\n",
    "df_eval= df_eval.rename(columns={\"index\":\"Model\"})\n",
    "df_eval[\"Precision\"]= df_eval[\"Precision\"]*100\n",
    "df_eval[\"Recall\"]= df_eval[\"Recall\"]*100\n",
    "df_eval=df_eval.sort_values(\"Recall\")\n",
    "\n",
    "#df_eval=df_eval.drop([\"Precision\"], axis=1)"
   ]
  },
  {
   "cell_type": "code",
   "execution_count": 642,
   "metadata": {},
   "outputs": [
    {
     "data": {
      "image/png": "[encoded data removed]",
      "text/plain": [
       "<Figure size 1080x360 with 1 Axes>"
      ]
     },
     "metadata": {
      "needs_background": "light"
     },
     "output_type": "display_data"
    }
   ],
   "source": [
    "colors_list = ['#fffeb6','#f97306','#5cb85c']\n",
    "plot= df_eval.plot(kind=\"bar\", x=\"Model\",figsize=(15,5),color=colors_list,width = 0.8)\n",
    "plt.title(\"Evaluation Comparison\")\n",
    "plt.xlabel(\"Model\")\n",
    "\n",
    "# Add this loop to add the annotations\n",
    "for p in plot.patches:\n",
    "    width = p.get_width()\n",
    "    height = p.get_height()\n",
    "    x, y = p.get_xy() \n",
    "    plot.annotate(f'{round(height)}', (x + width/2, y + height), ha='center')\n",
    "    \n",
    "\n"
   ]
  }
 ],
 "metadata": {
  "kernelspec": {
   "display_name": "Python 3",
   "language": "python",
   "name": "python3"
  },
  "language_info": {
   "codemirror_mode": {
    "name": "ipython",
    "version": 3
   },
   "file_extension": ".py",
   "mimetype": "text/x-python",
   "name": "python",
   "nbconvert_exporter": "python",
   "pygments_lexer": "ipython3",
   "version": "3.8.3"
  }
 },
 "nbformat": 4,
 "nbformat_minor": 4
}
