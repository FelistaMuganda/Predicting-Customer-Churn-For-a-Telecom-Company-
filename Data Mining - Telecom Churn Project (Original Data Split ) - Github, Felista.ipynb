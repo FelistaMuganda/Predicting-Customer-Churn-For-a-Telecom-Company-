{
 "cells": [
  {
   "cell_type": "markdown",
   "metadata": {},
   "source": [
    "##  Importing Some Base Packages"
   ]
  },
  {
   "cell_type": "code",
   "execution_count": 1,
   "metadata": {},
   "outputs": [],
   "source": [
    "import numpy as np\n",
    "import pandas as pd\n",
    "import os\n",
    "from sklearn.linear_model import LogisticRegression"
   ]
  },
  {
   "cell_type": "code",
   "execution_count": 2,
   "metadata": {},
   "outputs": [],
   "source": [
    "# Assigning working directory\n",
    "os.getcwd()\n",
    "os.chdir(\"C:/Users/HP/OneDrive - Michigan State University/Masters - Data Science/MSU/Fall/Data Mining/Project\")"
   ]
  },
  {
   "cell_type": "markdown",
   "metadata": {},
   "source": [
    "## Importing Data\n",
    "\n",
    "### Data was already split into 80% train and 20% test csv, so no further splitting"
   ]
  },
  {
   "cell_type": "code",
   "execution_count": 3,
   "metadata": {},
   "outputs": [],
   "source": [
    "train=pd.read_csv(\"Train telecom.csv\",index_col=0)\n",
    "test=pd.read_csv(\"Test telecom.csv\",index_col=0)"
   ]
  },
  {
   "cell_type": "code",
   "execution_count": 4,
   "metadata": {},
   "outputs": [
    {
     "name": "stdout",
     "output_type": "stream",
     "text": [
      "3333\n"
     ]
    }
   ],
   "source": [
    "print(np.array(train.shape)[0]+np.array(test.shape)[0])\n"
   ]
  },
  {
   "cell_type": "code",
   "execution_count": 5,
   "metadata": {},
   "outputs": [
    {
     "data": {
      "text/plain": [
       "['Account length',\n",
       " 'International plan',\n",
       " 'Voice mail plan',\n",
       " 'Number vmail messages',\n",
       " 'Total day minutes',\n",
       " 'Total day calls',\n",
       " 'Total day charge',\n",
       " 'Total eve minutes',\n",
       " 'Total eve calls',\n",
       " 'Total eve charge',\n",
       " 'Total night minutes',\n",
       " 'Total night calls',\n",
       " 'Total night charge',\n",
       " 'Total intl minutes',\n",
       " 'Total intl calls',\n",
       " 'Total intl charge',\n",
       " 'Customer service calls',\n",
       " 'Churn']"
      ]
     },
     "execution_count": 5,
     "metadata": {},
     "output_type": "execute_result"
    }
   ],
   "source": [
    "#Drop area code since not likely to influence churn\n",
    "train=train.drop([\"Area code\"],axis=1)\n",
    "test=test.drop([\"Area code\"],axis=1)\n",
    "list(train.columns)"
   ]
  },
  {
   "cell_type": "markdown",
   "metadata": {},
   "source": [
    "## Binarize Categorical Variables"
   ]
  },
  {
   "cell_type": "code",
   "execution_count": 6,
   "metadata": {},
   "outputs": [],
   "source": [
    "#Replacing Yes/No values with 1 and 0\n",
    "train[\"International plan\"] = train[\"International plan\"].replace({'Yes' :1, 'No':0}).astype(int)\n",
    "train[\"Voice mail plan\"] = train[\"Voice mail plan\"].replace({'Yes':1, 'No':0}).astype(int)\n",
    "\n",
    "test[\"International plan\"] = test[\"International plan\"].replace({'Yes':1,'No':0}).astype(int)\n",
    "test[\"Voice mail plan\"] = test[\"Voice mail plan\"].replace({'Yes':1,'No':0}).astype(int)\n"
   ]
  },
  {
   "cell_type": "code",
   "execution_count": 7,
   "metadata": {},
   "outputs": [],
   "source": [
    "#Replacing True/False values with 1 and 0\n",
    "train[\"Churn\"] = train[\"Churn\"].replace({True:1,False:0}).astype(int)\n",
    "\n",
    "test[\"Churn\"] = test[\"Churn\"].replace({True:1,False:0}).astype(int)"
   ]
  },
  {
   "cell_type": "code",
   "execution_count": 8,
   "metadata": {},
   "outputs": [
    {
     "data": {
      "text/html": [
       "<div>\n",
       "<style scoped>\n",
       "    .dataframe tbody tr th:only-of-type {\n",
       "        vertical-align: middle;\n",
       "    }\n",
       "\n",
       "    .dataframe tbody tr th {\n",
       "        vertical-align: top;\n",
       "    }\n",
       "\n",
       "    .dataframe thead th {\n",
       "        text-align: right;\n",
       "    }\n",
       "</style>\n",
       "<table border=\"1\" class=\"dataframe\">\n",
       "  <thead>\n",
       "    <tr style=\"text-align: right;\">\n",
       "      <th></th>\n",
       "      <th>Account length</th>\n",
       "      <th>International plan</th>\n",
       "      <th>Voice mail plan</th>\n",
       "      <th>Number vmail messages</th>\n",
       "      <th>Total day minutes</th>\n",
       "      <th>Total day calls</th>\n",
       "      <th>Total day charge</th>\n",
       "      <th>Total eve minutes</th>\n",
       "      <th>Total eve calls</th>\n",
       "      <th>Total eve charge</th>\n",
       "      <th>Total night minutes</th>\n",
       "      <th>Total night calls</th>\n",
       "      <th>Total night charge</th>\n",
       "      <th>Total intl minutes</th>\n",
       "      <th>Total intl calls</th>\n",
       "      <th>Total intl charge</th>\n",
       "      <th>Customer service calls</th>\n",
       "      <th>Churn</th>\n",
       "    </tr>\n",
       "    <tr>\n",
       "      <th>State</th>\n",
       "      <th></th>\n",
       "      <th></th>\n",
       "      <th></th>\n",
       "      <th></th>\n",
       "      <th></th>\n",
       "      <th></th>\n",
       "      <th></th>\n",
       "      <th></th>\n",
       "      <th></th>\n",
       "      <th></th>\n",
       "      <th></th>\n",
       "      <th></th>\n",
       "      <th></th>\n",
       "      <th></th>\n",
       "      <th></th>\n",
       "      <th></th>\n",
       "      <th></th>\n",
       "      <th></th>\n",
       "    </tr>\n",
       "  </thead>\n",
       "  <tbody>\n",
       "    <tr>\n",
       "      <th>KS</th>\n",
       "      <td>128</td>\n",
       "      <td>0</td>\n",
       "      <td>1</td>\n",
       "      <td>25</td>\n",
       "      <td>265.1</td>\n",
       "      <td>110</td>\n",
       "      <td>45.07</td>\n",
       "      <td>197.4</td>\n",
       "      <td>99</td>\n",
       "      <td>16.78</td>\n",
       "      <td>244.7</td>\n",
       "      <td>91</td>\n",
       "      <td>11.01</td>\n",
       "      <td>10.0</td>\n",
       "      <td>3</td>\n",
       "      <td>2.70</td>\n",
       "      <td>1</td>\n",
       "      <td>0</td>\n",
       "    </tr>\n",
       "    <tr>\n",
       "      <th>OH</th>\n",
       "      <td>107</td>\n",
       "      <td>0</td>\n",
       "      <td>1</td>\n",
       "      <td>26</td>\n",
       "      <td>161.6</td>\n",
       "      <td>123</td>\n",
       "      <td>27.47</td>\n",
       "      <td>195.5</td>\n",
       "      <td>103</td>\n",
       "      <td>16.62</td>\n",
       "      <td>254.4</td>\n",
       "      <td>103</td>\n",
       "      <td>11.45</td>\n",
       "      <td>13.7</td>\n",
       "      <td>3</td>\n",
       "      <td>3.70</td>\n",
       "      <td>1</td>\n",
       "      <td>0</td>\n",
       "    </tr>\n",
       "    <tr>\n",
       "      <th>NJ</th>\n",
       "      <td>137</td>\n",
       "      <td>0</td>\n",
       "      <td>0</td>\n",
       "      <td>0</td>\n",
       "      <td>243.4</td>\n",
       "      <td>114</td>\n",
       "      <td>41.38</td>\n",
       "      <td>121.2</td>\n",
       "      <td>110</td>\n",
       "      <td>10.30</td>\n",
       "      <td>162.6</td>\n",
       "      <td>104</td>\n",
       "      <td>7.32</td>\n",
       "      <td>12.2</td>\n",
       "      <td>5</td>\n",
       "      <td>3.29</td>\n",
       "      <td>0</td>\n",
       "      <td>0</td>\n",
       "    </tr>\n",
       "    <tr>\n",
       "      <th>OH</th>\n",
       "      <td>84</td>\n",
       "      <td>1</td>\n",
       "      <td>0</td>\n",
       "      <td>0</td>\n",
       "      <td>299.4</td>\n",
       "      <td>71</td>\n",
       "      <td>50.90</td>\n",
       "      <td>61.9</td>\n",
       "      <td>88</td>\n",
       "      <td>5.26</td>\n",
       "      <td>196.9</td>\n",
       "      <td>89</td>\n",
       "      <td>8.86</td>\n",
       "      <td>6.6</td>\n",
       "      <td>7</td>\n",
       "      <td>1.78</td>\n",
       "      <td>2</td>\n",
       "      <td>0</td>\n",
       "    </tr>\n",
       "  </tbody>\n",
       "</table>\n",
       "</div>"
      ],
      "text/plain": [
       "       Account length  International plan  Voice mail plan  \\\n",
       "State                                                        \n",
       "KS                128                   0                1   \n",
       "OH                107                   0                1   \n",
       "NJ                137                   0                0   \n",
       "OH                 84                   1                0   \n",
       "\n",
       "       Number vmail messages  Total day minutes  Total day calls  \\\n",
       "State                                                              \n",
       "KS                        25              265.1              110   \n",
       "OH                        26              161.6              123   \n",
       "NJ                         0              243.4              114   \n",
       "OH                         0              299.4               71   \n",
       "\n",
       "       Total day charge  Total eve minutes  Total eve calls  Total eve charge  \\\n",
       "State                                                                           \n",
       "KS                45.07              197.4               99             16.78   \n",
       "OH                27.47              195.5              103             16.62   \n",
       "NJ                41.38              121.2              110             10.30   \n",
       "OH                50.90               61.9               88              5.26   \n",
       "\n",
       "       Total night minutes  Total night calls  Total night charge  \\\n",
       "State                                                               \n",
       "KS                   244.7                 91               11.01   \n",
       "OH                   254.4                103               11.45   \n",
       "NJ                   162.6                104                7.32   \n",
       "OH                   196.9                 89                8.86   \n",
       "\n",
       "       Total intl minutes  Total intl calls  Total intl charge  \\\n",
       "State                                                            \n",
       "KS                   10.0                 3               2.70   \n",
       "OH                   13.7                 3               3.70   \n",
       "NJ                   12.2                 5               3.29   \n",
       "OH                    6.6                 7               1.78   \n",
       "\n",
       "       Customer service calls  Churn  \n",
       "State                                 \n",
       "KS                          1      0  \n",
       "OH                          1      0  \n",
       "NJ                          0      0  \n",
       "OH                          2      0  "
      ]
     },
     "execution_count": 8,
     "metadata": {},
     "output_type": "execute_result"
    }
   ],
   "source": [
    "train.head(4)"
   ]
  },
  {
   "cell_type": "markdown",
   "metadata": {},
   "source": [
    "## Standardising X"
   ]
  },
  {
   "cell_type": "code",
   "execution_count": 9,
   "metadata": {},
   "outputs": [],
   "source": [
    "X_train = train.drop([\"Churn\"], axis=1)\n",
    "X_test = test.drop([\"Churn\"],axis=1)\n"
   ]
  },
  {
   "cell_type": "code",
   "execution_count": 10,
   "metadata": {},
   "outputs": [],
   "source": [
    "from sklearn.preprocessing import StandardScaler\n",
    "scaler=StandardScaler()\n",
    "# We remove the target class(a categorical variable) before standardising the data\n",
    "scaler.fit(X_train)\n",
    "X_train=scaler.transform(X_train)\n",
    "\n",
    "scaler.fit(X_test)\n",
    "X_test =scaler.transform(X_test)"
   ]
  },
  {
   "cell_type": "code",
   "execution_count": 11,
   "metadata": {},
   "outputs": [
    {
     "data": {
      "text/plain": [
       "array([[ 0.34712707, -0.29380132, -0.6288064 , ..., -0.21274705,\n",
       "        -0.54771446, -0.4230984 ],\n",
       "       [-0.92773053, -0.29380132, -0.6288064 , ...,  0.5935159 ,\n",
       "         0.87784318,  1.82855024],\n",
       "       [ 1.42585272, -0.29380132, -0.6288064 , ...,  1.80291033,\n",
       "        -1.72247956,  1.82855024],\n",
       "       ...,\n",
       "       [-1.05031299, -0.29380132, -0.6288064 , ...,  1.39977885,\n",
       "         1.04943809,  1.0780007 ],\n",
       "       [ 1.37681974, -0.29380132, -0.6288064 , ..., -0.21274705,\n",
       "         0.48185495, -0.4230984 ],\n",
       "       [ 1.98973205,  3.40366063, -0.6288064 , ...,  2.2060418 ,\n",
       "        -1.86767524,  0.32745115]])"
      ]
     },
     "execution_count": 11,
     "metadata": {},
     "output_type": "execute_result"
    }
   ],
   "source": [
    "X_test"
   ]
  },
  {
   "cell_type": "markdown",
   "metadata": {},
   "source": [
    "## Assigning 'y'"
   ]
  },
  {
   "cell_type": "code",
   "execution_count": 12,
   "metadata": {},
   "outputs": [],
   "source": [
    "y_train=train.loc[:,'Churn']\n",
    "y_test = test.loc[:, \"Churn\"]"
   ]
  },
  {
   "cell_type": "markdown",
   "metadata": {},
   "source": [
    "# Modelling\n",
    "\n",
    "This section includes several models:\n",
    "1. Logistic Regression (No penalty)\n",
    "2. Ridge (Logistic regression with 'l2' penalty)\n",
    "3. RidgeClassifier (Logistic regression with 'l2' penalty,includes class weight balancing in algorithm)\n",
    "4. Lasso (Logistic regresison with 'l1' penalty)\n",
    "\n",
    "And other Classifiers \n",
    "\n",
    "5. Random Forest,\n",
    "6. Support Vector Machine, \n",
    "7. MLP Classifier, \n",
    "8. K Nearest Neighbor, \n",
    "9. Gradient Boosting Classifier"
   ]
  },
  {
   "cell_type": "markdown",
   "metadata": {},
   "source": [
    "### Base Model = Logistic Regression"
   ]
  },
  {
   "cell_type": "code",
   "execution_count": 13,
   "metadata": {},
   "outputs": [],
   "source": [
    "# Import some necessary modelling packages to start with\n",
    "\n",
    "from sklearn.linear_model import LogisticRegression\n",
    "from sklearn.metrics import confusion_matrix\n",
    "from sklearn.metrics import precision_score\n",
    "from sklearn.metrics import recall_score\n",
    "from sklearn.metrics import plot_confusion_matrix"
   ]
  },
  {
   "cell_type": "markdown",
   "metadata": {},
   "source": [
    "## Define Evaluation Metrics Based on Business Question\n",
    "Precision, Accuracy and Recall are the key model performance metrics, with Recall as the main metric based on the business proposition described below:\n",
    "\n",
    "### 1. Recall: Proportion of customers who churn that are correctly predicted as churn.\n",
    "   ### tp / (tp+fn)\n",
    "\n",
    "   The business wants to identify customers likely to churn before hand, so that they can entice them to stay on and lock in that revenue, thus recall is our key metric.It measures the ability of a classifier to label all churn clients/positive samples correctly. \n",
    "   Losing a customer is more costly than \n",
    "   unnecessarily spending on a customer not likely to leave(value of Precision), thus Recall is our first line of defence.\n",
    "   \n",
    "   \n",
    "   \n",
    "### 2. Precision: Precision of positive prediction i.e. Proportion of customers predicted as churn that are actually churn\n",
    "###     tp / (tp + fp)   \n",
    "   \n",
    "  Reducing false positives would enable the business refocus unnecessary resources from customers unlikely to churn, \n",
    "  \n",
    "  to those more likely, thus optimizing returns. Precision, which measures the ability of a classifier not to label a \n",
    "  negative(non-churn client) as a positive(churn), is a cost saving or spend optimization strategy.\n",
    "   \n",
    "   A cost saving may not be as desired as gaining future income streams by correctly identifying customers likely to churn,\n",
    "   thus Recall is a higher priority. Precision is also important.\n",
    "   \n",
    "   \n",
    "   \n",
    "### 3. Accuracy: Overall number of customers of either class predicted correctly as a proportion of all customers predicted"
   ]
  },
  {
   "cell_type": "markdown",
   "metadata": {},
   "source": [
    "### Defining Metric Evaluation Function"
   ]
  },
  {
   "cell_type": "code",
   "execution_count": 14,
   "metadata": {},
   "outputs": [],
   "source": [
    "def evaluate(y_test, y_pred,model_initials):\n",
    "    cm  = confusion_matrix(y_test, y_pred)\n",
    "    num_correct = sum(cm[i][i] for i in range(1))\n",
    "    acc = num_correct/cm.sum()\n",
    "    \n",
    "    #Precision = TruePositives /(TruePositives + FalsePositives)\n",
    "    #Out of all positive predictions, what % is actually positive \n",
    "    prec= cm[1][1]/(cm[1][1] +cm[0][1])#cm[row][column] if dataframe = cm_df.iloc[row][column]\n",
    "   \n",
    "    #recall= true positives/(true positives + false negatives)\n",
    "    #Out of all actual positives what % is correctly predicted as +ve\n",
    "    \n",
    "    recall = cm[1][1]/(cm[1][1]+cm[1][0]) \n",
    "   \n",
    "    global df\n",
    "    \n",
    "    evaluation = {\n",
    "    'Precision': [prec],\n",
    "    'Accuracy': [acc],\n",
    "    'Recall': [recall]\n",
    "    }\n",
    "    \n",
    "    df=pd.DataFrame(evaluation)\n",
    "    \n",
    "    df = (df*100).round(1)  # changing values to %\n",
    "    \n",
    "    df.index=[model_initials] #model_initials has to be specified as a string\n",
    "\n",
    "\n",
    "    return df"
   ]
  },
  {
   "cell_type": "markdown",
   "metadata": {},
   "source": [
    "## 1. Logistic Regression\n",
    "\n",
    "### a.) Without class balancing\n",
    "#### Our target variable is imbalanced, and running the model without adjusting the class weights is expected to have low predicting power for the lower represented churn class =\"yes\" and it does. This is reflected in the low Recall. Overall accuracy is high because the model is better at predicting the majority class, the none churners, but our objective in this model is to predict churn"
   ]
  },
  {
   "cell_type": "code",
   "execution_count": 15,
   "metadata": {},
   "outputs": [
    {
     "name": "stdout",
     "output_type": "stream",
     "text": [
      "[[550  22]\n",
      " [ 76  19]]\n"
     ]
    },
    {
     "data": {
      "text/html": [
       "<div>\n",
       "<style scoped>\n",
       "    .dataframe tbody tr th:only-of-type {\n",
       "        vertical-align: middle;\n",
       "    }\n",
       "\n",
       "    .dataframe tbody tr th {\n",
       "        vertical-align: top;\n",
       "    }\n",
       "\n",
       "    .dataframe thead th {\n",
       "        text-align: right;\n",
       "    }\n",
       "</style>\n",
       "<table border=\"1\" class=\"dataframe\">\n",
       "  <thead>\n",
       "    <tr style=\"text-align: right;\">\n",
       "      <th></th>\n",
       "      <th>Precision</th>\n",
       "      <th>Accuracy</th>\n",
       "      <th>Recall</th>\n",
       "    </tr>\n",
       "  </thead>\n",
       "  <tbody>\n",
       "    <tr>\n",
       "      <th>Logistic_Regression</th>\n",
       "      <td>46.3</td>\n",
       "      <td>82.5</td>\n",
       "      <td>20.0</td>\n",
       "    </tr>\n",
       "  </tbody>\n",
       "</table>\n",
       "</div>"
      ],
      "text/plain": [
       "                     Precision  Accuracy  Recall\n",
       "Logistic_Regression       46.3      82.5    20.0"
      ]
     },
     "execution_count": 15,
     "metadata": {},
     "output_type": "execute_result"
    }
   ],
   "source": [
    "lr = LogisticRegression(penalty='none', random_state=1,max_iter=1000)\n",
    "lr = lr.fit(X_train, y_train)\n",
    "y_pred = lr.predict(X_test)\n",
    "cm  = confusion_matrix(y_test, y_pred)\n",
    "Eval_LR = evaluate(y_test, y_pred,'Logistic_Regression') # Eval_LR stands for Evaluation LogisticRegression\n",
    "\n",
    "print(cm)\n",
    "precision = precision_score(y_test, y_pred, average='binary')\n",
    "\n",
    "\n",
    "Eval_LR "
   ]
  },
  {
   "cell_type": "markdown",
   "metadata": {},
   "source": [
    "### b.) With Class Balancing   \n",
    "#### After class_weight of the target variable is balanced in the background, the 'Recall' metric is expected to increase and it does - significantly. The model is better at predicting the lower represented class we are interested in of customers who churn."
   ]
  },
  {
   "cell_type": "code",
   "execution_count": 16,
   "metadata": {},
   "outputs": [
    {
     "name": "stdout",
     "output_type": "stream",
     "text": [
      "[[445 127]\n",
      " [ 24  71]]\n"
     ]
    },
    {
     "data": {
      "text/html": [
       "<div>\n",
       "<style scoped>\n",
       "    .dataframe tbody tr th:only-of-type {\n",
       "        vertical-align: middle;\n",
       "    }\n",
       "\n",
       "    .dataframe tbody tr th {\n",
       "        vertical-align: top;\n",
       "    }\n",
       "\n",
       "    .dataframe thead th {\n",
       "        text-align: right;\n",
       "    }\n",
       "</style>\n",
       "<table border=\"1\" class=\"dataframe\">\n",
       "  <thead>\n",
       "    <tr style=\"text-align: right;\">\n",
       "      <th></th>\n",
       "      <th>Precision</th>\n",
       "      <th>Accuracy</th>\n",
       "      <th>Recall</th>\n",
       "    </tr>\n",
       "  </thead>\n",
       "  <tbody>\n",
       "    <tr>\n",
       "      <th>LR_balanced</th>\n",
       "      <td>35.9</td>\n",
       "      <td>66.7</td>\n",
       "      <td>74.7</td>\n",
       "    </tr>\n",
       "  </tbody>\n",
       "</table>\n",
       "</div>"
      ],
      "text/plain": [
       "             Precision  Accuracy  Recall\n",
       "LR_balanced       35.9      66.7    74.7"
      ]
     },
     "execution_count": 16,
     "metadata": {},
     "output_type": "execute_result"
    }
   ],
   "source": [
    "### Logistic Regression With class_weight =\"balanced\" argument that balances imbalanced 'Churn' classes in the background\n",
    "\n",
    "lr = LogisticRegression(penalty='none',class_weight=\"balanced\", random_state=1, max_iter=1000)\n",
    "lr = lr.fit(X_train, y_train)\n",
    "y_pred = lr.predict(X_test)\n",
    "cm  = confusion_matrix(y_test, y_pred)\n",
    "Eval_LR_Bal = evaluate(y_test, y_pred,\"LR_balanced\")\n",
    "\n",
    "print(cm)\n",
    "\n",
    "Eval_LR_Bal"
   ]
  },
  {
   "cell_type": "markdown",
   "metadata": {},
   "source": [
    "# Smote Oversampling\n",
    "\n",
    "Can SMOTE give us higher Recall than the class_weight argument? SMOTE oversampling creates new data points and thus balances classes of \"yes\" and \"no\" within target variable : customer 'Churn' "
   ]
  },
  {
   "cell_type": "code",
   "execution_count": 17,
   "metadata": {},
   "outputs": [
    {
     "name": "stdout",
     "output_type": "stream",
     "text": [
      "length of oversampled data is  4556\n",
      "Number of no churn in oversampled data 2278\n",
      "Number of churn 2278\n",
      "Proportion of no churn data in oversampled data is  0.5\n",
      "Proportion of churn data in oversampled data is  0.5\n"
     ]
    }
   ],
   "source": [
    "from imblearn.over_sampling import SMOTE\n",
    "\n",
    "\n",
    "os = SMOTE(random_state=0)\n",
    "\n",
    "columns = train.columns[:-1]\n",
    "os_data_X,os_data_y=os.fit_sample(X_train, y_train)\n",
    "os_data_X = pd.DataFrame(data=os_data_X,columns=columns)\n",
    "os_data_y= pd.DataFrame(data=os_data_y,columns=['Churn'])\n",
    "# we can Check the numbers of our data\n",
    "print(\"length of oversampled data is \",len(os_data_X))\n",
    "print(\"Number of no churn in oversampled data\",len(os_data_y[os_data_y['Churn']==0]))\n",
    "print(\"Number of churn\",len(os_data_y[os_data_y['Churn']==1]))\n",
    "print(\"Proportion of no churn data in oversampled data is \",len(os_data_y[os_data_y['Churn']==0])/len(os_data_X))\n",
    "print(\"Proportion of churn data in oversampled data is \",len(os_data_y[os_data_y['Churn']==1])/len(os_data_X))"
   ]
  },
  {
   "cell_type": "markdown",
   "metadata": {},
   "source": [
    "### Assigning smote X_train and y_train from SMOTE oversampled original X_train and y_train data sets"
   ]
  },
  {
   "cell_type": "code",
   "execution_count": 18,
   "metadata": {},
   "outputs": [],
   "source": [
    "X_train_smote =os_data_X[columns]\n",
    "y_train_smote =os_data_y['Churn']"
   ]
  },
  {
   "cell_type": "markdown",
   "metadata": {},
   "source": [
    "## c.) Logistic Regression after SMOTE\n",
    "\n",
    "#### After SMOTE oversampling, we get the highest recall compared to results after class_weight='balanced' argument or without any class weight adjustment."
   ]
  },
  {
   "cell_type": "code",
   "execution_count": 19,
   "metadata": {},
   "outputs": [
    {
     "name": "stdout",
     "output_type": "stream",
     "text": [
      "[[445 127]\n",
      " [ 22  73]]\n",
      "                          Precision  Accuracy  Recall\n",
      "LogisticRegression_SMOTE       36.5      66.7    76.8\n"
     ]
    }
   ],
   "source": [
    "lr = LogisticRegression(penalty='none',class_weight=\"balanced\", random_state=1,max_iter=1000)\n",
    "lr = lr.fit(X_train_smote, y_train_smote)\n",
    "y_pred = lr.predict(X_test)\n",
    "cm  = confusion_matrix(y_test, y_pred)\n",
    "Eval_LR_SMOTE = evaluate(y_test, y_pred,\"LogisticRegression_SMOTE\")\n",
    "\n",
    "print(cm)\n",
    "print(Eval_LR_SMOTE)\n"
   ]
  },
  {
   "cell_type": "markdown",
   "metadata": {},
   "source": [
    "### Does SMOTE Make a Difference?\n",
    "\n",
    "Comparison of Logistic Regression Performance: \n",
    "\n",
    "1. Without adjusting for classweights, \n",
    "2. After class_weight argument used to adjust weights to \"balanced\" \n",
    "3. SMOTE Oversampling\n",
    "\n",
    "SMOTE Oversampling gives the highest recall which is our key metric. Though not the main focus, its accuracy and precision are competitive as well"
   ]
  },
  {
   "cell_type": "code",
   "execution_count": 20,
   "metadata": {},
   "outputs": [
    {
     "data": {
      "text/html": [
       "<div>\n",
       "<style scoped>\n",
       "    .dataframe tbody tr th:only-of-type {\n",
       "        vertical-align: middle;\n",
       "    }\n",
       "\n",
       "    .dataframe tbody tr th {\n",
       "        vertical-align: top;\n",
       "    }\n",
       "\n",
       "    .dataframe thead th {\n",
       "        text-align: right;\n",
       "    }\n",
       "</style>\n",
       "<table border=\"1\" class=\"dataframe\">\n",
       "  <thead>\n",
       "    <tr style=\"text-align: right;\">\n",
       "      <th></th>\n",
       "      <th>Precision</th>\n",
       "      <th>Accuracy</th>\n",
       "      <th>Recall</th>\n",
       "    </tr>\n",
       "  </thead>\n",
       "  <tbody>\n",
       "    <tr>\n",
       "      <th>LogisticRegression_SMOTE</th>\n",
       "      <td>36.5</td>\n",
       "      <td>66.7</td>\n",
       "      <td>76.8</td>\n",
       "    </tr>\n",
       "    <tr>\n",
       "      <th>LR_balanced</th>\n",
       "      <td>35.9</td>\n",
       "      <td>66.7</td>\n",
       "      <td>74.7</td>\n",
       "    </tr>\n",
       "    <tr>\n",
       "      <th>Logistic_Regression</th>\n",
       "      <td>46.3</td>\n",
       "      <td>82.5</td>\n",
       "      <td>20.0</td>\n",
       "    </tr>\n",
       "  </tbody>\n",
       "</table>\n",
       "</div>"
      ],
      "text/plain": [
       "                          Precision  Accuracy  Recall\n",
       "LogisticRegression_SMOTE       36.5      66.7    76.8\n",
       "LR_balanced                    35.9      66.7    74.7\n",
       "Logistic_Regression            46.3      82.5    20.0"
      ]
     },
     "execution_count": 20,
     "metadata": {},
     "output_type": "execute_result"
    }
   ],
   "source": [
    "LR_Comparison = Eval_LR.append([Eval_LR_Bal,Eval_LR_SMOTE])\n",
    "\n",
    "LR_Comparison= round(LR_Comparison.sort_values(by=\"Recall\" , ascending=False),2)\n",
    "\n",
    "LR_Comparison"
   ]
  },
  {
   "cell_type": "markdown",
   "metadata": {},
   "source": [
    "#### For all subsequent models, SMOTE X_train and y_train sets are used as training data, after establishing SMOTE gives the highest recall as a balancing technique."
   ]
  },
  {
   "cell_type": "code",
   "execution_count": 21,
   "metadata": {},
   "outputs": [],
   "source": [
    "X_train = X_train_smote\n",
    "y_train = y_train_smote"
   ]
  },
  {
   "cell_type": "markdown",
   "metadata": {},
   "source": [
    "## 2. Ridge"
   ]
  },
  {
   "cell_type": "code",
   "execution_count": 22,
   "metadata": {},
   "outputs": [
    {
     "name": "stdout",
     "output_type": "stream",
     "text": [
      "[[445 127]\n",
      " [ 22  73]]\n",
      "                  Precision  Accuracy  Recall\n",
      "Ridge_Regression       36.5      66.7    76.8\n"
     ]
    }
   ],
   "source": [
    "### Ridge Regression \n",
    "lr = LogisticRegression(penalty='l2',random_state=1,max_iter=1000)\n",
    "lr = lr.fit(X_train, y_train)\n",
    "y_pred = lr.predict(X_test)\n",
    "cm  = confusion_matrix(y_test, y_pred)\n",
    "Eval_Ridge = evaluate(y_test, y_pred, \"Ridge_Regression\")\n",
    "\n",
    "print(cm)\n",
    "print(Eval_Ridge)"
   ]
  },
  {
   "cell_type": "markdown",
   "metadata": {},
   "source": [
    "## 3. RidgeClassifier\n",
    "Performs exactly the same as Ridge with SMOTE oversampling, however performs better on raw data unadjusted for class imbalance (I.e. without SMOTE or class_weight adjustments). The RidgeClassifier seems to be Ridge with oversampling in the background"
   ]
  },
  {
   "cell_type": "code",
   "execution_count": 23,
   "metadata": {},
   "outputs": [
    {
     "name": "stdout",
     "output_type": "stream",
     "text": [
      "[[446 126]\n",
      " [ 22  73]]\n",
      "                 Precision  Accuracy  Recall\n",
      "RidgeClassifier       36.7      66.9    76.8\n"
     ]
    }
   ],
   "source": [
    "from sklearn.linear_model import RidgeClassifier\n",
    "lr = RidgeClassifier(alpha=0.1, solver='saga', random_state=1,max_iter=1000)\n",
    "lr.fit(X_train_smote, y_train_smote)\n",
    "y_pred = lr.predict(X_test)\n",
    "cm  = confusion_matrix(y_test, y_pred)\n",
    "Eval_RidgeClassifier = evaluate(y_test, y_pred,\"RidgeClassifier\")\n",
    "\n",
    "print(cm)\n",
    "print(Eval_RidgeClassifier)"
   ]
  },
  {
   "cell_type": "markdown",
   "metadata": {},
   "source": [
    "## 4. Lasso"
   ]
  },
  {
   "cell_type": "code",
   "execution_count": 24,
   "metadata": {},
   "outputs": [
    {
     "name": "stdout",
     "output_type": "stream",
     "text": [
      "[[446 126]\n",
      " [ 22  73]]\n",
      "                  Precision  Accuracy  Recall\n",
      "Lasso_Regression       36.7      66.9    76.8\n"
     ]
    },
    {
     "name": "stderr",
     "output_type": "stream",
     "text": [
      "C:\\Users\\HP\\miniconda3\\lib\\site-packages\\sklearn\\linear_model\\_sag.py:329: ConvergenceWarning: The max_iter was reached which means the coef_ did not converge\n",
      "  warnings.warn(\"The max_iter was reached which means \"\n"
     ]
    }
   ],
   "source": [
    "### Lasso Regression\n",
    "\n",
    "lr = LogisticRegression(penalty='l1', solver='saga', random_state=1, max_iter = 1000)\n",
    "lr.fit(X_train, y_train)\n",
    "y_pred = lr.predict(X_test)\n",
    "cm  = confusion_matrix(y_test, y_pred)\n",
    "Eval_Lasso = evaluate(y_test, y_pred, \"Lasso_Regression\")\n",
    "\n",
    "print(cm)\n",
    "print(Eval_Lasso)"
   ]
  },
  {
   "cell_type": "markdown",
   "metadata": {},
   "source": [
    "## 5. SVM"
   ]
  },
  {
   "cell_type": "code",
   "execution_count": 25,
   "metadata": {},
   "outputs": [
    {
     "name": "stdout",
     "output_type": "stream",
     "text": [
      "[[446 126]\n",
      " [ 22  73]]\n",
      "                        Precision  Accuracy  Recall\n",
      "Support_Vector_Machine       36.0      66.3    76.8\n"
     ]
    }
   ],
   "source": [
    "from sklearn.svm import SVC \n",
    "svm = SVC(kernel = 'linear', C = 1, random_state=1)\n",
    "svm.fit(X_train, y_train) \n",
    "y_pred = svm.predict(X_test)\n",
    "Eval_SVM = evaluate(y_test, y_pred,\"Support_Vector_Machine\")\n",
    "#cm  = confusion_matrix(y_test, y_pred)\n",
    "print(cm)\n",
    "print(Eval_SVM)"
   ]
  },
  {
   "cell_type": "code",
   "execution_count": 26,
   "metadata": {},
   "outputs": [
    {
     "name": "stdout",
     "output_type": "stream",
     "text": [
      "[[446 126]\n",
      " [ 22  73]]\n",
      "                      Precision  Accuracy  Recall\n",
      "SVM_weights_adjusted       21.1      35.4    94.7\n"
     ]
    }
   ],
   "source": [
    "## SVM with classes adjusted\n",
    "from sklearn.svm import SVC \n",
    "svm = SVC(kernel = 'linear', C = 1, class_weight={1: 4}, random_state=1)\n",
    "svm.fit(X_train, y_train) \n",
    "y_pred = svm.predict(X_test)\n",
    "Eval_SVM_2 = evaluate(y_test, y_pred,\"SVM_weights_adjusted\")\n",
    "#cm  = confusion_matrix(y_test, y_pred)\n",
    "print(cm)\n",
    "print(Eval_SVM_2)"
   ]
  },
  {
   "cell_type": "markdown",
   "metadata": {},
   "source": [
    "## 6. Random Forest"
   ]
  },
  {
   "cell_type": "code",
   "execution_count": 27,
   "metadata": {},
   "outputs": [
    {
     "name": "stdout",
     "output_type": "stream",
     "text": [
      "[[534  38]\n",
      " [ 15  80]]\n",
      "               Precision  Accuracy  Recall\n",
      "Random_Forest       67.8      80.1    84.2\n"
     ]
    }
   ],
   "source": [
    "from sklearn.ensemble import RandomForestClassifier\n",
    "\n",
    "rf = RandomForestClassifier(n_estimators=100,min_samples_split=7, random_state=1)\n",
    "rf.fit(X_train, y_train)\n",
    "y_pred = rf.predict(X_test)\n",
    "Eval_RF = evaluate(y_test, y_pred,\"Random_Forest\")\n",
    "cm  = confusion_matrix(y_test, y_pred)\n",
    "print(cm)\n",
    "print(Eval_RF)"
   ]
  },
  {
   "cell_type": "markdown",
   "metadata": {},
   "source": [
    "## 7. MLP Classifier"
   ]
  },
  {
   "cell_type": "code",
   "execution_count": 28,
   "metadata": {},
   "outputs": [],
   "source": [
    "from sklearn.neural_network import MLPClassifier"
   ]
  },
  {
   "cell_type": "code",
   "execution_count": 29,
   "metadata": {},
   "outputs": [
    {
     "name": "stdout",
     "output_type": "stream",
     "text": [
      "[[549  23]\n",
      " [ 33  62]]\n",
      "                Precision  Accuracy  Recall\n",
      "MLP_Classifier       72.9      82.3    65.3\n"
     ]
    }
   ],
   "source": [
    "mlp = MLPClassifier(alpha=0.01, batch_size=200, hidden_layer_sizes=(700,),\\\n",
    "                    learning_rate='adaptive', max_iter=500, random_state=1)\n",
    "mlp.fit(X_train, y_train)\n",
    "y_pred = mlp.predict(X_test)\n",
    "Eval_MLP = evaluate(y_test, y_pred,\"MLP_Classifier\")\n",
    "cm  = confusion_matrix(y_test, y_pred)\n",
    "print(cm)\n",
    "print(Eval_MLP)"
   ]
  },
  {
   "cell_type": "markdown",
   "metadata": {},
   "source": [
    "## 8. KNN"
   ]
  },
  {
   "cell_type": "code",
   "execution_count": 30,
   "metadata": {},
   "outputs": [
    {
     "name": "stdout",
     "output_type": "stream",
     "text": [
      "[[471 101]\n",
      " [ 28  67]]\n"
     ]
    },
    {
     "data": {
      "text/html": [
       "<div>\n",
       "<style scoped>\n",
       "    .dataframe tbody tr th:only-of-type {\n",
       "        vertical-align: middle;\n",
       "    }\n",
       "\n",
       "    .dataframe tbody tr th {\n",
       "        vertical-align: top;\n",
       "    }\n",
       "\n",
       "    .dataframe thead th {\n",
       "        text-align: right;\n",
       "    }\n",
       "</style>\n",
       "<table border=\"1\" class=\"dataframe\">\n",
       "  <thead>\n",
       "    <tr style=\"text-align: right;\">\n",
       "      <th></th>\n",
       "      <th>Precision</th>\n",
       "      <th>Accuracy</th>\n",
       "      <th>Recall</th>\n",
       "    </tr>\n",
       "  </thead>\n",
       "  <tbody>\n",
       "    <tr>\n",
       "      <th>K_Nearest_Neighbor</th>\n",
       "      <td>39.9</td>\n",
       "      <td>70.6</td>\n",
       "      <td>70.5</td>\n",
       "    </tr>\n",
       "  </tbody>\n",
       "</table>\n",
       "</div>"
      ],
      "text/plain": [
       "                    Precision  Accuracy  Recall\n",
       "K_Nearest_Neighbor       39.9      70.6    70.5"
      ]
     },
     "execution_count": 30,
     "metadata": {},
     "output_type": "execute_result"
    }
   ],
   "source": [
    "from sklearn.neighbors import KNeighborsClassifier\n",
    "\n",
    "knn = KNeighborsClassifier(weights = \"distance\")\n",
    "knn.fit(X_train, y_train)\n",
    "y_pred = knn.predict(X_test)\n",
    "Eval_KNN = evaluate(y_test, y_pred,\"K_Nearest_Neighbor\")\n",
    "#precision_score(y_test,y_pred, average='binary')\n",
    "cm  = confusion_matrix(y_test, y_pred)\n",
    "\n",
    "print(cm)\n",
    "Eval_KNN"
   ]
  },
  {
   "cell_type": "markdown",
   "metadata": {},
   "source": [
    "## 9. Gradient Boosting Classifier\n",
    "\n",
    "Ensemble method that combines a number of weaker regression trees to build one powerful classifier"
   ]
  },
  {
   "cell_type": "code",
   "execution_count": 31,
   "metadata": {},
   "outputs": [],
   "source": [
    "from sklearn.ensemble import GradientBoostingClassifier"
   ]
  },
  {
   "cell_type": "code",
   "execution_count": 32,
   "metadata": {},
   "outputs": [
    {
     "name": "stdout",
     "output_type": "stream",
     "text": [
      "[[106 466]\n",
      " [  3  92]]\n",
      "                          Precision  Accuracy  Recall\n",
      "GradientBoosting_untuned       16.5      15.9    96.8\n"
     ]
    }
   ],
   "source": [
    "# Gradient Boosting Classifier model without parameter tuning\n",
    "\n",
    "from sklearn.ensemble import GradientBoostingClassifier\n",
    "\n",
    "gb = GradientBoostingClassifier()\n",
    "gb.fit(X_train, y_train)\n",
    "y_pred = gb.predict(X_test)\n",
    "Eval_gb_untuned = evaluate(y_test, y_pred,\"GradientBoosting_untuned\")\n",
    "cm  = confusion_matrix(y_test, y_pred)\n",
    "print(cm)\n",
    "print(Eval_gb_untuned)"
   ]
  },
  {
   "cell_type": "code",
   "execution_count": 33,
   "metadata": {},
   "outputs": [
    {
     "data": {
      "text/plain": [
       "150"
      ]
     },
     "execution_count": 33,
     "metadata": {},
     "output_type": "execute_result"
    }
   ],
   "source": [
    "# Parameter Tuning\n",
    "\n",
    "learning_rate = [0.01, 0.05, 0.1, 0.5, 0.8]\n",
    "n_estimators = [5, 10, 20, 50, 100, 150]\n",
    "min_samples_split = [2,5,7,10,20]\n",
    "\n",
    "param_list = []\n",
    "\n",
    "for learn_rate in learning_rate:\n",
    "    for ne in n_estimators:\n",
    "        for mss in min_samples_split:\n",
    "            param_list.append([learn_rate, ne, mss])\n",
    "                \n",
    "len(param_list)"
   ]
  },
  {
   "cell_type": "code",
   "execution_count": 34,
   "metadata": {},
   "outputs": [
    {
     "name": "stdout",
     "output_type": "stream",
     "text": [
      "30\n",
      "60\n",
      "90\n",
      "120\n",
      "150\n"
     ]
    },
    {
     "data": {
      "text/html": [
       "<div>\n",
       "<style scoped>\n",
       "    .dataframe tbody tr th:only-of-type {\n",
       "        vertical-align: middle;\n",
       "    }\n",
       "\n",
       "    .dataframe tbody tr th {\n",
       "        vertical-align: top;\n",
       "    }\n",
       "\n",
       "    .dataframe thead th {\n",
       "        text-align: right;\n",
       "    }\n",
       "</style>\n",
       "<table border=\"1\" class=\"dataframe\">\n",
       "  <thead>\n",
       "    <tr style=\"text-align: right;\">\n",
       "      <th></th>\n",
       "      <th>learning_rate</th>\n",
       "      <th>n_estimators</th>\n",
       "      <th>min_sample_split</th>\n",
       "      <th>recall</th>\n",
       "    </tr>\n",
       "  </thead>\n",
       "  <tbody>\n",
       "    <tr>\n",
       "      <th>0</th>\n",
       "      <td>0.01</td>\n",
       "      <td>5</td>\n",
       "      <td>2</td>\n",
       "      <td>0.778947</td>\n",
       "    </tr>\n",
       "    <tr>\n",
       "      <th>1</th>\n",
       "      <td>0.01</td>\n",
       "      <td>5</td>\n",
       "      <td>5</td>\n",
       "      <td>0.778947</td>\n",
       "    </tr>\n",
       "    <tr>\n",
       "      <th>2</th>\n",
       "      <td>0.01</td>\n",
       "      <td>5</td>\n",
       "      <td>7</td>\n",
       "      <td>0.778947</td>\n",
       "    </tr>\n",
       "    <tr>\n",
       "      <th>3</th>\n",
       "      <td>0.01</td>\n",
       "      <td>5</td>\n",
       "      <td>10</td>\n",
       "      <td>0.778947</td>\n",
       "    </tr>\n",
       "    <tr>\n",
       "      <th>4</th>\n",
       "      <td>0.01</td>\n",
       "      <td>5</td>\n",
       "      <td>20</td>\n",
       "      <td>0.778947</td>\n",
       "    </tr>\n",
       "  </tbody>\n",
       "</table>\n",
       "</div>"
      ],
      "text/plain": [
       "   learning_rate  n_estimators  min_sample_split    recall\n",
       "0           0.01             5                 2  0.778947\n",
       "1           0.01             5                 5  0.778947\n",
       "2           0.01             5                 7  0.778947\n",
       "3           0.01             5                10  0.778947\n",
       "4           0.01             5                20  0.778947"
      ]
     },
     "execution_count": 34,
     "metadata": {},
     "output_type": "execute_result"
    }
   ],
   "source": [
    "perf_df = pd.DataFrame(param_list, columns=['learning_rate', 'n_estimators', 'min_sample_split'])\n",
    "\n",
    "recall = []\n",
    "count = 0\n",
    "for param in param_list:\n",
    "    count += 1\n",
    "    if count%30 == 0:\n",
    "        print(count)\n",
    "    gb = GradientBoostingClassifier(learning_rate=param[0], n_estimators=param[1],\\\n",
    "                                    min_samples_split=param[2], random_state=1)\n",
    "    gb.fit(X_train, y_train)\n",
    "    y_pred = gb.predict(X_test)\n",
    "    calc = recall_score(y_test, y_pred)\n",
    "    recall.append(calc)\n",
    "    \n",
    "perf_df['recall'] = recall\n",
    "perf_df.head()"
   ]
  },
  {
   "cell_type": "code",
   "execution_count": 35,
   "metadata": {},
   "outputs": [
    {
     "data": {
      "text/html": [
       "<div>\n",
       "<style scoped>\n",
       "    .dataframe tbody tr th:only-of-type {\n",
       "        vertical-align: middle;\n",
       "    }\n",
       "\n",
       "    .dataframe tbody tr th {\n",
       "        vertical-align: top;\n",
       "    }\n",
       "\n",
       "    .dataframe thead th {\n",
       "        text-align: right;\n",
       "    }\n",
       "</style>\n",
       "<table border=\"1\" class=\"dataframe\">\n",
       "  <thead>\n",
       "    <tr style=\"text-align: right;\">\n",
       "      <th></th>\n",
       "      <th>learning_rate</th>\n",
       "      <th>n_estimators</th>\n",
       "      <th>min_sample_split</th>\n",
       "      <th>recall</th>\n",
       "    </tr>\n",
       "  </thead>\n",
       "  <tbody>\n",
       "    <tr>\n",
       "      <th>82</th>\n",
       "      <td>0.1</td>\n",
       "      <td>100</td>\n",
       "      <td>7</td>\n",
       "      <td>0.978947</td>\n",
       "    </tr>\n",
       "    <tr>\n",
       "      <th>83</th>\n",
       "      <td>0.1</td>\n",
       "      <td>100</td>\n",
       "      <td>10</td>\n",
       "      <td>0.978947</td>\n",
       "    </tr>\n",
       "    <tr>\n",
       "      <th>87</th>\n",
       "      <td>0.1</td>\n",
       "      <td>150</td>\n",
       "      <td>7</td>\n",
       "      <td>0.978947</td>\n",
       "    </tr>\n",
       "    <tr>\n",
       "      <th>88</th>\n",
       "      <td>0.1</td>\n",
       "      <td>150</td>\n",
       "      <td>10</td>\n",
       "      <td>0.978947</td>\n",
       "    </tr>\n",
       "    <tr>\n",
       "      <th>100</th>\n",
       "      <td>0.5</td>\n",
       "      <td>20</td>\n",
       "      <td>2</td>\n",
       "      <td>0.978947</td>\n",
       "    </tr>\n",
       "    <tr>\n",
       "      <th>101</th>\n",
       "      <td>0.5</td>\n",
       "      <td>20</td>\n",
       "      <td>5</td>\n",
       "      <td>0.978947</td>\n",
       "    </tr>\n",
       "    <tr>\n",
       "      <th>102</th>\n",
       "      <td>0.5</td>\n",
       "      <td>20</td>\n",
       "      <td>7</td>\n",
       "      <td>0.978947</td>\n",
       "    </tr>\n",
       "    <tr>\n",
       "      <th>103</th>\n",
       "      <td>0.5</td>\n",
       "      <td>20</td>\n",
       "      <td>10</td>\n",
       "      <td>0.978947</td>\n",
       "    </tr>\n",
       "    <tr>\n",
       "      <th>106</th>\n",
       "      <td>0.5</td>\n",
       "      <td>50</td>\n",
       "      <td>5</td>\n",
       "      <td>0.978947</td>\n",
       "    </tr>\n",
       "    <tr>\n",
       "      <th>107</th>\n",
       "      <td>0.5</td>\n",
       "      <td>50</td>\n",
       "      <td>7</td>\n",
       "      <td>0.978947</td>\n",
       "    </tr>\n",
       "    <tr>\n",
       "      <th>108</th>\n",
       "      <td>0.5</td>\n",
       "      <td>50</td>\n",
       "      <td>10</td>\n",
       "      <td>0.978947</td>\n",
       "    </tr>\n",
       "    <tr>\n",
       "      <th>109</th>\n",
       "      <td>0.5</td>\n",
       "      <td>50</td>\n",
       "      <td>20</td>\n",
       "      <td>0.978947</td>\n",
       "    </tr>\n",
       "  </tbody>\n",
       "</table>\n",
       "</div>"
      ],
      "text/plain": [
       "     learning_rate  n_estimators  min_sample_split    recall\n",
       "82             0.1           100                 7  0.978947\n",
       "83             0.1           100                10  0.978947\n",
       "87             0.1           150                 7  0.978947\n",
       "88             0.1           150                10  0.978947\n",
       "100            0.5            20                 2  0.978947\n",
       "101            0.5            20                 5  0.978947\n",
       "102            0.5            20                 7  0.978947\n",
       "103            0.5            20                10  0.978947\n",
       "106            0.5            50                 5  0.978947\n",
       "107            0.5            50                 7  0.978947\n",
       "108            0.5            50                10  0.978947\n",
       "109            0.5            50                20  0.978947"
      ]
     },
     "execution_count": 35,
     "metadata": {},
     "output_type": "execute_result"
    }
   ],
   "source": [
    "## Creating a dataframe with trained models with best recall\n",
    "perf_df[perf_df.recall == perf_df.recall.max()]"
   ]
  },
  {
   "cell_type": "code",
   "execution_count": 36,
   "metadata": {},
   "outputs": [
    {
     "name": "stdout",
     "output_type": "stream",
     "text": [
      "[[ 78 494]\n",
      " [  2  93]]\n",
      "                        Precision  Accuracy  Recall\n",
      "GradientBoosting_tuned       15.8      11.7    97.9\n"
     ]
    }
   ],
   "source": [
    "#Using parameters of one of the best models to create the tuned GradientBoosting Classifier model\n",
    "\n",
    "gb = GradientBoostingClassifier(learning_rate=0.1, n_estimators=100, min_samples_split=7, random_state=1)\n",
    "gb.fit(X_train, y_train)\n",
    "y_pred = gb.predict(X_test)\n",
    "Eval_gb = evaluate(y_test, y_pred,\"GradientBoosting_tuned\")\n",
    "cm  = confusion_matrix(y_test, y_pred)\n",
    "print(cm)\n",
    "print(Eval_gb)"
   ]
  },
  {
   "cell_type": "markdown",
   "metadata": {},
   "source": [
    "## Creating a Combined Model Evaluation Dataframe\n",
    "\n",
    "The evaluation dataframes of individual models are appended to form one dataframe for easy comparison"
   ]
  },
  {
   "cell_type": "code",
   "execution_count": 37,
   "metadata": {},
   "outputs": [],
   "source": [
    "df_Evaluation = Eval_LR_SMOTE.append([Eval_Ridge,Eval_RidgeClassifier,\n",
    "                                                  Eval_Lasso,Eval_RF, Eval_SVM,Eval_MLP, Eval_KNN,Eval_gb])\n",
    "                                      \n",
    "df_Evaluation = df_Evaluation.sort_values(by ='Recall',ascending = False)"
   ]
  },
  {
   "cell_type": "code",
   "execution_count": 38,
   "metadata": {},
   "outputs": [
    {
     "data": {
      "text/html": [
       "<div>\n",
       "<style scoped>\n",
       "    .dataframe tbody tr th:only-of-type {\n",
       "        vertical-align: middle;\n",
       "    }\n",
       "\n",
       "    .dataframe tbody tr th {\n",
       "        vertical-align: top;\n",
       "    }\n",
       "\n",
       "    .dataframe thead th {\n",
       "        text-align: right;\n",
       "    }\n",
       "</style>\n",
       "<table border=\"1\" class=\"dataframe\">\n",
       "  <thead>\n",
       "    <tr style=\"text-align: right;\">\n",
       "      <th></th>\n",
       "      <th>Precision</th>\n",
       "      <th>Accuracy</th>\n",
       "      <th>Recall</th>\n",
       "    </tr>\n",
       "  </thead>\n",
       "  <tbody>\n",
       "    <tr>\n",
       "      <th>GradientBoosting_tuned</th>\n",
       "      <td>15.8</td>\n",
       "      <td>11.7</td>\n",
       "      <td>97.9</td>\n",
       "    </tr>\n",
       "    <tr>\n",
       "      <th>Random_Forest</th>\n",
       "      <td>67.8</td>\n",
       "      <td>80.1</td>\n",
       "      <td>84.2</td>\n",
       "    </tr>\n",
       "    <tr>\n",
       "      <th>LogisticRegression_SMOTE</th>\n",
       "      <td>36.5</td>\n",
       "      <td>66.7</td>\n",
       "      <td>76.8</td>\n",
       "    </tr>\n",
       "    <tr>\n",
       "      <th>Ridge_Regression</th>\n",
       "      <td>36.5</td>\n",
       "      <td>66.7</td>\n",
       "      <td>76.8</td>\n",
       "    </tr>\n",
       "    <tr>\n",
       "      <th>RidgeClassifier</th>\n",
       "      <td>36.7</td>\n",
       "      <td>66.9</td>\n",
       "      <td>76.8</td>\n",
       "    </tr>\n",
       "    <tr>\n",
       "      <th>Lasso_Regression</th>\n",
       "      <td>36.7</td>\n",
       "      <td>66.9</td>\n",
       "      <td>76.8</td>\n",
       "    </tr>\n",
       "    <tr>\n",
       "      <th>Support_Vector_Machine</th>\n",
       "      <td>36.0</td>\n",
       "      <td>66.3</td>\n",
       "      <td>76.8</td>\n",
       "    </tr>\n",
       "    <tr>\n",
       "      <th>K_Nearest_Neighbor</th>\n",
       "      <td>39.9</td>\n",
       "      <td>70.6</td>\n",
       "      <td>70.5</td>\n",
       "    </tr>\n",
       "    <tr>\n",
       "      <th>MLP_Classifier</th>\n",
       "      <td>72.9</td>\n",
       "      <td>82.3</td>\n",
       "      <td>65.3</td>\n",
       "    </tr>\n",
       "  </tbody>\n",
       "</table>\n",
       "</div>"
      ],
      "text/plain": [
       "                          Precision  Accuracy  Recall\n",
       "GradientBoosting_tuned         15.8      11.7    97.9\n",
       "Random_Forest                  67.8      80.1    84.2\n",
       "LogisticRegression_SMOTE       36.5      66.7    76.8\n",
       "Ridge_Regression               36.5      66.7    76.8\n",
       "RidgeClassifier                36.7      66.9    76.8\n",
       "Lasso_Regression               36.7      66.9    76.8\n",
       "Support_Vector_Machine         36.0      66.3    76.8\n",
       "K_Nearest_Neighbor             39.9      70.6    70.5\n",
       "MLP_Classifier                 72.9      82.3    65.3"
      ]
     },
     "execution_count": 38,
     "metadata": {},
     "output_type": "execute_result"
    }
   ],
   "source": [
    "df_Evaluation"
   ]
  },
  {
   "cell_type": "code",
   "execution_count": 39,
   "metadata": {},
   "outputs": [],
   "source": [
    "df_Evaluation=df_Evaluation.reset_index()\n",
    "df_Evaluation= df_Evaluation.rename(columns = {\"index\":\"Model\"})"
   ]
  },
  {
   "cell_type": "code",
   "execution_count": 40,
   "metadata": {},
   "outputs": [
    {
     "data": {
      "text/html": [
       "<div>\n",
       "<style scoped>\n",
       "    .dataframe tbody tr th:only-of-type {\n",
       "        vertical-align: middle;\n",
       "    }\n",
       "\n",
       "    .dataframe tbody tr th {\n",
       "        vertical-align: top;\n",
       "    }\n",
       "\n",
       "    .dataframe thead th {\n",
       "        text-align: right;\n",
       "    }\n",
       "</style>\n",
       "<table border=\"1\" class=\"dataframe\">\n",
       "  <thead>\n",
       "    <tr style=\"text-align: right;\">\n",
       "      <th></th>\n",
       "      <th>Model</th>\n",
       "      <th>Precision</th>\n",
       "      <th>Accuracy</th>\n",
       "      <th>Recall</th>\n",
       "    </tr>\n",
       "  </thead>\n",
       "  <tbody>\n",
       "    <tr>\n",
       "      <th>0</th>\n",
       "      <td>GradientBoosting_tuned</td>\n",
       "      <td>15.8</td>\n",
       "      <td>11.7</td>\n",
       "      <td>97.9</td>\n",
       "    </tr>\n",
       "    <tr>\n",
       "      <th>1</th>\n",
       "      <td>Random_Forest</td>\n",
       "      <td>67.8</td>\n",
       "      <td>80.1</td>\n",
       "      <td>84.2</td>\n",
       "    </tr>\n",
       "    <tr>\n",
       "      <th>2</th>\n",
       "      <td>LogisticRegression_SMOTE</td>\n",
       "      <td>36.5</td>\n",
       "      <td>66.7</td>\n",
       "      <td>76.8</td>\n",
       "    </tr>\n",
       "    <tr>\n",
       "      <th>3</th>\n",
       "      <td>Ridge_Regression</td>\n",
       "      <td>36.5</td>\n",
       "      <td>66.7</td>\n",
       "      <td>76.8</td>\n",
       "    </tr>\n",
       "    <tr>\n",
       "      <th>4</th>\n",
       "      <td>RidgeClassifier</td>\n",
       "      <td>36.7</td>\n",
       "      <td>66.9</td>\n",
       "      <td>76.8</td>\n",
       "    </tr>\n",
       "    <tr>\n",
       "      <th>5</th>\n",
       "      <td>Lasso_Regression</td>\n",
       "      <td>36.7</td>\n",
       "      <td>66.9</td>\n",
       "      <td>76.8</td>\n",
       "    </tr>\n",
       "    <tr>\n",
       "      <th>6</th>\n",
       "      <td>Support_Vector_Machine</td>\n",
       "      <td>36.0</td>\n",
       "      <td>66.3</td>\n",
       "      <td>76.8</td>\n",
       "    </tr>\n",
       "    <tr>\n",
       "      <th>7</th>\n",
       "      <td>K_Nearest_Neighbor</td>\n",
       "      <td>39.9</td>\n",
       "      <td>70.6</td>\n",
       "      <td>70.5</td>\n",
       "    </tr>\n",
       "    <tr>\n",
       "      <th>8</th>\n",
       "      <td>MLP_Classifier</td>\n",
       "      <td>72.9</td>\n",
       "      <td>82.3</td>\n",
       "      <td>65.3</td>\n",
       "    </tr>\n",
       "  </tbody>\n",
       "</table>\n",
       "</div>"
      ],
      "text/plain": [
       "                      Model  Precision  Accuracy  Recall\n",
       "0    GradientBoosting_tuned       15.8      11.7    97.9\n",
       "1             Random_Forest       67.8      80.1    84.2\n",
       "2  LogisticRegression_SMOTE       36.5      66.7    76.8\n",
       "3          Ridge_Regression       36.5      66.7    76.8\n",
       "4           RidgeClassifier       36.7      66.9    76.8\n",
       "5          Lasso_Regression       36.7      66.9    76.8\n",
       "6    Support_Vector_Machine       36.0      66.3    76.8\n",
       "7        K_Nearest_Neighbor       39.9      70.6    70.5\n",
       "8            MLP_Classifier       72.9      82.3    65.3"
      ]
     },
     "execution_count": 40,
     "metadata": {},
     "output_type": "execute_result"
    }
   ],
   "source": [
    "df_Evaluation"
   ]
  },
  {
   "cell_type": "markdown",
   "metadata": {},
   "source": [
    "## Visual of Model Performance"
   ]
  },
  {
   "cell_type": "code",
   "execution_count": 42,
   "metadata": {},
   "outputs": [
    {
     "data": {
      "image/png": "[encoded data removed]",
      "text/plain": [
       "<Figure size 1080x504 with 1 Axes>"
      ]
     },
     "metadata": {
      "needs_background": "light"
     },
     "output_type": "display_data"
    }
   ],
   "source": [
    "import matplotlib.pyplot as plt\n",
    "\n",
    "colors_list = ['#d6ed17ff','#606060ff','#39ff14']\n",
    "plot= df_Evaluation.plot(kind=\"bar\", x=\"Model\",figsize=(15,7),color=colors_list,width = 0.8)\n",
    "plt.title(\"Evaluation Comparison\")\n",
    "plt.xlabel(\"Model\")\n",
    "\n",
    "# Add this loop to add the annotations\n",
    "for p in plot.patches:\n",
    "    width = p.get_width()\n",
    "    height = p.get_height()\n",
    "    x, y = p.get_xy() \n",
    "    plot.annotate(f'{height}', (x + width/2, y + height), ha='center')\n",
    "    \n"
   ]
  },
  {
   "cell_type": "markdown",
   "metadata": {},
   "source": [
    "# Best Models & Their Confusion Matrices\n",
    "The Gradient Boosting Model is the best overall at predicting probability of a customer likely to churn with 98% accuracy.\n",
    "\n",
    "The Random Forest comes second at 84.2%. The Random Forest however has a much higher precision of 67.8%, thus probability to missclassify a loyal telecom customer falsely as one likely to churn is about 32%. This is much lower than the 88% probability of false positive prediction in the Gradient Boosting Classifier. This could lead to significant lost resources on loyal customers that could have gained higer returns when directed elsewhere.\n",
    "\n",
    "The overall saving of resources by avoiding false predictions might be worth the 14% decreased Recall/ability to correctly predict churn customers. Assuming revenue streams are not exponentially higher than costs, we would advise the Random Forest model as the best model to retain customers and optimize costs, subject to business knowledge.\n",
    "\n",
    "Please refer to the defining metrics section above to review in more detail the the business value proposition behind the metrics."
   ]
  },
  {
   "cell_type": "markdown",
   "metadata": {},
   "source": [
    "## Defining Confusion Matrix Function"
   ]
  },
  {
   "cell_type": "code",
   "execution_count": 43,
   "metadata": {},
   "outputs": [],
   "source": [
    "#import matplotlib.pyplot as plt\n",
    "\n",
    "def cm(model):\n",
    "    class_names= train[\"Churn\"].unique()\n",
    "    titles_options = [(\"Confusion matrix, without normalization\", None),\n",
    "                  (\"Normalized confusion matrix\", 'true')]\n",
    "    for title, normalize in titles_options:\n",
    "        disp = plot_confusion_matrix(model, X_test, y_test,\n",
    "                                 display_labels=class_names,\n",
    "                                 cmap=plt.cm.Greens,\n",
    "                                 normalize=normalize)\n",
    "        disp.ax_.set_title(title)\n",
    "\n",
    "        print(title)\n",
    "        print(disp.confusion_matrix)\n",
    "\n",
    "    plt.show()\n",
    "    \n",
    "    return plt.show()\n",
    "\n"
   ]
  },
  {
   "cell_type": "markdown",
   "metadata": {},
   "source": [
    "## Random Forest Confusion Matrix"
   ]
  },
  {
   "cell_type": "code",
   "execution_count": 44,
   "metadata": {},
   "outputs": [
    {
     "name": "stdout",
     "output_type": "stream",
     "text": [
      "Confusion matrix, without normalization\n",
      "[[534  38]\n",
      " [ 15  80]]\n",
      "Normalized confusion matrix\n",
      "[[0.93356643 0.06643357]\n",
      " [0.15789474 0.84210526]]\n"
     ]
    },
    {
     "data": {
      "image/png": "[encoded data removed]",
      "text/plain": [
       "<Figure size 432x288 with 2 Axes>"
      ]
     },
     "metadata": {
      "needs_background": "light"
     },
     "output_type": "display_data"
    },
    {
     "data": {
      "image/png": "[encoded data removed]",
      "text/plain": [
       "<Figure size 432x288 with 2 Axes>"
      ]
     },
     "metadata": {
      "needs_background": "light"
     },
     "output_type": "display_data"
    }
   ],
   "source": [
    "## Random Forest Confusion Matrix\n",
    "cm(rf)"
   ]
  },
  {
   "cell_type": "markdown",
   "metadata": {},
   "source": [
    "## Gradient Boosting Classifier Confusion Matrix"
   ]
  },
  {
   "cell_type": "code",
   "execution_count": 45,
   "metadata": {
    "scrolled": true
   },
   "outputs": [
    {
     "name": "stdout",
     "output_type": "stream",
     "text": [
      "Confusion matrix, without normalization\n",
      "[[ 78 494]\n",
      " [  2  93]]\n",
      "Normalized confusion matrix\n",
      "[[0.13636364 0.86363636]\n",
      " [0.02105263 0.97894737]]\n"
     ]
    },
    {
     "data": {
      "image/png": "[encoded data removed]",
      "text/plain": [
       "<Figure size 432x288 with 2 Axes>"
      ]
     },
     "metadata": {
      "needs_background": "light"
     },
     "output_type": "display_data"
    },
    {
     "data": {
      "image/png": "[encoded data removed]",
      "text/plain": [
       "<Figure size 432x288 with 2 Axes>"
      ]
     },
     "metadata": {
      "needs_background": "light"
     },
     "output_type": "display_data"
    }
   ],
   "source": [
    "## Gradient Boosting Classifier Confusion Matrix\n",
    "cm(gb)"
   ]
  }
 ],
 "metadata": {
  "kernelspec": {
   "display_name": "Python 3",
   "language": "python",
   "name": "python3"
  },
  "language_info": {
   "codemirror_mode": {
    "name": "ipython",
    "version": 3
   },
   "file_extension": ".py",
   "mimetype": "text/x-python",
   "name": "python",
   "nbconvert_exporter": "python",
   "pygments_lexer": "ipython3",
   "version": "3.8.3"
  }
 },
 "nbformat": 4,
 "nbformat_minor": 4
}
